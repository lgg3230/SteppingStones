{
 "cells": [
  {
   "cell_type": "code",
   "execution_count": 22,
   "id": "214e777a",
   "metadata": {},
   "outputs": [],
   "source": [
    "import pandas as pd\n",
    "import numpy as np\n",
    "from pathlib import Path\n",
    "import shutil\n",
    "import re"
   ]
  },
  {
   "cell_type": "code",
   "execution_count": 23,
   "id": "15e760f4",
   "metadata": {},
   "outputs": [],
   "source": [
    "src_dir = Path(\"/Users/luisg/Desktop/SteppingStones_Parent/RAIS/output/data/full\")\n",
    "out_dir = Path(\"/Users/luisg/Desktop/SteppingStones_Parent/SteppingStones/data/interim/sp\")\n",
    "out_dir.mkdir(parents=True, exist_ok=True)\n",
    "\n",
    "zip_base = out_dir.with_suffix(\"\")\n",
    "zip_path = Path(str(zip_base) + \".zip\")\n",
    "\n"
   ]
  },
  {
   "cell_type": "code",
   "execution_count": 24,
   "id": "d511c66e",
   "metadata": {},
   "outputs": [],
   "source": [
    "mun_code = 355030\n",
    "start_year = 2003\n",
    "end_year   = 2016"
   ]
  },
  {
   "cell_type": "code",
   "execution_count": null,
   "id": "37826f48",
   "metadata": {},
   "outputs": [],
   "source": []
  },
  {
   "cell_type": "code",
   "execution_count": 25,
   "id": "b8b845b3",
   "metadata": {},
   "outputs": [],
   "source": [
    "df_total = pd.read_stata(\"/Users/luisg/Desktop/SteppingStones_Parent/RAIS/output/data/full/RAIS_2008.dta\")\n"
   ]
  },
  {
   "cell_type": "code",
   "execution_count": 26,
   "id": "50dcd71e",
   "metadata": {},
   "outputs": [],
   "source": [
    "df_sample = df_total[df_total['municipio'].isin([355030])]"
   ]
  },
  {
   "cell_type": "code",
   "execution_count": 27,
   "id": "68e2cfee",
   "metadata": {},
   "outputs": [
    {
     "data": {
      "application/vnd.microsoft.datawrangler.viewer.v0+json": {
       "columns": [
        {
         "name": "index",
         "rawType": "int64",
         "type": "integer"
        },
        {
         "name": "PIS",
         "rawType": "object",
         "type": "string"
        },
        {
         "name": "CPF",
         "rawType": "object",
         "type": "string"
        },
        {
         "name": "numectps",
         "rawType": "object",
         "type": "string"
        },
        {
         "name": "nome",
         "rawType": "object",
         "type": "string"
        },
        {
         "name": "identificad",
         "rawType": "object",
         "type": "string"
        },
        {
         "name": "radiccnpj",
         "rawType": "object",
         "type": "string"
        },
        {
         "name": "municipio",
         "rawType": "int32",
         "type": "integer"
        },
        {
         "name": "tpvinculo",
         "rawType": "category",
         "type": "unknown"
        },
        {
         "name": "empem3112",
         "rawType": "category",
         "type": "unknown"
        },
        {
         "name": "tipoadm",
         "rawType": "category",
         "type": "unknown"
        },
        {
         "name": "dtadmissao",
         "rawType": "object",
         "type": "string"
        },
        {
         "name": "causadesli",
         "rawType": "category",
         "type": "unknown"
        },
        {
         "name": "diadesli",
         "rawType": "category",
         "type": "unknown"
        },
        {
         "name": "mesdesli",
         "rawType": "category",
         "type": "unknown"
        },
        {
         "name": "ocupacao94",
         "rawType": "float64",
         "type": "float"
        },
        {
         "name": "ocup2002",
         "rawType": "category",
         "type": "unknown"
        },
        {
         "name": "grinstrucao",
         "rawType": "category",
         "type": "unknown"
        },
        {
         "name": "genero",
         "rawType": "category",
         "type": "unknown"
        },
        {
         "name": "dtnascimento",
         "rawType": "object",
         "type": "string"
        },
        {
         "name": "nacionalidad",
         "rawType": "category",
         "type": "unknown"
        },
        {
         "name": "portdefic",
         "rawType": "int8",
         "type": "integer"
        },
        {
         "name": "tpdefic",
         "rawType": "category",
         "type": "unknown"
        },
        {
         "name": "raca_cor",
         "rawType": "category",
         "type": "unknown"
        },
        {
         "name": "remdezembro",
         "rawType": "float64",
         "type": "float"
        },
        {
         "name": "remdezr",
         "rawType": "float64",
         "type": "float"
        },
        {
         "name": "remmedia",
         "rawType": "float64",
         "type": "float"
        },
        {
         "name": "remmedr",
         "rawType": "float64",
         "type": "float"
        },
        {
         "name": "tempempr",
         "rawType": "float64",
         "type": "float"
        },
        {
         "name": "tiposal",
         "rawType": "category",
         "type": "unknown"
        },
        {
         "name": "salcontr",
         "rawType": "float64",
         "type": "float"
        },
        {
         "name": "ultrem",
         "rawType": "float64",
         "type": "float"
        },
        {
         "name": "horascontr",
         "rawType": "int8",
         "type": "integer"
        },
        {
         "name": "clascnae95",
         "rawType": "int32",
         "type": "integer"
        },
        {
         "name": "clascnae20",
         "rawType": "object",
         "type": "string"
        },
        {
         "name": "sbclas20",
         "rawType": "object",
         "type": "string"
        },
        {
         "name": "tamestab",
         "rawType": "category",
         "type": "unknown"
        },
        {
         "name": "natjuridica",
         "rawType": "category",
         "type": "unknown"
        },
        {
         "name": "tipoestbl",
         "rawType": "category",
         "type": "unknown"
        },
        {
         "name": "indceivinc",
         "rawType": "int8",
         "type": "integer"
        },
        {
         "name": "ceivinc",
         "rawType": "object",
         "type": "string"
        },
        {
         "name": "indalvara",
         "rawType": "category",
         "type": "unknown"
        },
        {
         "name": "indpat",
         "rawType": "category",
         "type": "unknown"
        },
        {
         "name": "indsimples",
         "rawType": "category",
         "type": "unknown"
        },
        {
         "name": "qtdiasafas",
         "rawType": "int16",
         "type": "integer"
        },
        {
         "name": "causafast1",
         "rawType": "category",
         "type": "unknown"
        },
        {
         "name": "causafast2",
         "rawType": "category",
         "type": "unknown"
        },
        {
         "name": "causafast3",
         "rawType": "category",
         "type": "unknown"
        },
        {
         "name": "diainiaf1",
         "rawType": "category",
         "type": "unknown"
        },
        {
         "name": "diainiaf2",
         "rawType": "category",
         "type": "unknown"
        },
        {
         "name": "diainiaf3",
         "rawType": "category",
         "type": "unknown"
        },
        {
         "name": "diafimaf1",
         "rawType": "category",
         "type": "unknown"
        },
        {
         "name": "diafimaf2",
         "rawType": "category",
         "type": "unknown"
        },
        {
         "name": "diafimaf3",
         "rawType": "category",
         "type": "unknown"
        },
        {
         "name": "mesiniaf1",
         "rawType": "category",
         "type": "unknown"
        },
        {
         "name": "mesiniaf2",
         "rawType": "category",
         "type": "unknown"
        },
        {
         "name": "mesiniaf3",
         "rawType": "category",
         "type": "unknown"
        },
        {
         "name": "mesfimaf1",
         "rawType": "category",
         "type": "unknown"
        },
        {
         "name": "mesfimaf2",
         "rawType": "category",
         "type": "unknown"
        },
        {
         "name": "mesfimaf3",
         "rawType": "category",
         "type": "unknown"
        }
       ],
       "ref": "951d1c83-3bcd-48c9-9ea3-28cb6585b1a5",
       "rows": [
        [
         "2",
         "12501500581",
         "17087689800",
         "54756",
         "TATIANA FIEBIG DOS SANTOS",
         "60922168002120",
         "60922168",
         "355030",
         "CLT U/PJ IND",
         "Nao",
         "NAO ADMITIDO NO ANO",
         "14062004",
         "Rescisao sem justa causa por iniciativa do empregador",
         "24",
         "7",
         "57210.0",
         "322230",
         "Medio Completo",
         "Feminino",
         "06111974",
         "Brasileira",
         "1",
         "0",
         "Branca",
         "0.0",
         "0.0",
         "3.81",
         "1541.59",
         "49.3",
         "Mensal",
         "1213.0",
         "3.42",
         "36",
         "85111",
         "CLASSE 86101",
         "8610101",
         "De 500 a 999",
         "ORG SOCIAL",
         "CNPJ",
         "0",
         "0",
         "2",
         "Sim",
         "Nao",
         "1",
         "Doenca nao relacionada ao trabalho",
         "Nao se afastou",
         "Nao se afastou",
         "6",
         "Nao se afastou",
         "Nao se afastou",
         "6",
         "Nao se afastou",
         "Nao se afastou",
         "7",
         "Nao se afastou",
         "Nao se afastou",
         "7",
         "Nao se afastou",
         "Nao se afastou"
        ],
        [
         "11",
         "10664993254",
         "93423497815",
         "71325",
         "DIOLINO GONCALVES FILGUEIRA",
         "08015529000190",
         "8015529",
         "355030",
         "CLT U/PJ IND",
         "Sim",
         "REEMPREGO",
         "01072008",
         "Nao desligado",
         "Nao desligado",
         "Nao desligado",
         "45130.0",
         "521110",
         "Medio Incompleto",
         "Masculino",
         "27081957",
         "Brasileira",
         "1",
         "0",
         "Branca",
         "1.6",
         "665.0",
         "1.5",
         "627.0",
         "5.9",
         "Mensal",
         "665.0",
         "1.6",
         "44",
         "52442",
         "CLASSE 47423",
         "4742300",
         "Zero",
         "SOC QT LTDA",
         "CNPJ",
         "0",
         "0",
         "2",
         "Nao",
         "Nao",
         "0",
         "Nao se afastou",
         "Nao se afastou",
         "Nao se afastou",
         "Nao se afastou",
         "Nao se afastou",
         "Nao se afastou",
         "Nao se afastou",
         "Nao se afastou",
         "Nao se afastou",
         "Nao se afastou",
         "Nao se afastou",
         "Nao se afastou",
         "Nao se afastou",
         "Nao se afastou",
         "Nao se afastou"
        ],
        [
         "19",
         "10890694270",
         "07589552860",
         "15336",
         "LUIZ CARLOS DA SILVA",
         "03617361000170",
         "3617361",
         "355030",
         "CLT U/PJ IND",
         "Sim",
         "NAO ADMITIDO NO ANO",
         "15022006",
         "Nao desligado",
         "Nao desligado",
         "Nao desligado",
         null,
         "514320",
         "Medio Completo",
         "Masculino",
         "04041962",
         "Brasileira",
         "1",
         "0",
         "Branca",
         "1.21",
         "505.32",
         "1.12",
         "461.11",
         "34.5",
         "Mensal",
         "437.72",
         "1.21",
         "44",
         "74500",
         "CLASSE 78302",
         "7830200",
         "De 250 a 499",
         "SOC QT LTDA",
         "CNPJ",
         "0",
         "0",
         "2",
         "Sim",
         "Nao",
         "0",
         "Nao se afastou",
         "Nao se afastou",
         "Nao se afastou",
         "Nao se afastou",
         "Nao se afastou",
         "Nao se afastou",
         "Nao se afastou",
         "Nao se afastou",
         "Nao se afastou",
         "Nao se afastou",
         "Nao se afastou",
         "Nao se afastou",
         "Nao se afastou",
         "Nao se afastou",
         "Nao se afastou"
        ],
        [
         "35",
         "13059063299",
         "22878093844",
         "34679",
         "PAULO SOARES DANTAS",
         "03315079000138",
         "3315079",
         "355030",
         "CLT U/PJ IND",
         "Sim",
         "PRIM EMPREGO",
         "18012008",
         "Nao desligado",
         "Nao desligado",
         "Nao desligado",
         "93130.0",
         "723315",
         "9a Completo",
         "Masculino",
         "02101980",
         "Brasileira",
         "1",
         "0",
         "Branca",
         "0.0",
         "0.0",
         "2.36",
         "900.0",
         "11.4",
         "Mensal",
         "900.0",
         "2.36",
         "44",
         "74993",
         "CLASSE 63992",
         "6399200",
         "Zero",
         "SOC QT LTDA",
         "CNPJ",
         "0",
         "0",
         "2",
         "Nao",
         "Sim",
         "0",
         "Nao se afastou",
         "Nao se afastou",
         "Nao se afastou",
         "Nao se afastou",
         "Nao se afastou",
         "Nao se afastou",
         "Nao se afastou",
         "Nao se afastou",
         "Nao se afastou",
         "Nao se afastou",
         "Nao se afastou",
         "Nao se afastou",
         "Nao se afastou",
         "Nao se afastou",
         "Nao se afastou"
        ],
        [
         "40",
         "13195980893",
         "01088631584",
         "12875",
         "EDILEUZA RIBEIRO MATOS",
         "33700394049742",
         "33700394",
         "355030",
         "CLT U/PJ IND",
         "Sim",
         "REEMPREGO",
         "23062008",
         "Nao desligado",
         "Nao desligado",
         "Nao desligado",
         null,
         "212405",
         "Superior Completo",
         "Feminino",
         "09021984",
         "Brasileira",
         "1",
         "0",
         "Parda",
         "11.72",
         "4867.54",
         "11.34",
         "4709.19",
         "6.2",
         "Mensal",
         "4864.06",
         "11.72",
         "40",
         "65226",
         "CLASSE 64221",
         "6422100",
         "De 500 a 999",
         "SA ABERTA",
         "CNPJ",
         "0",
         "0",
         "2",
         "Sim",
         "Nao",
         "0",
         "Nao se afastou",
         "Nao se afastou",
         "Nao se afastou",
         "Nao se afastou",
         "Nao se afastou",
         "Nao se afastou",
         "Nao se afastou",
         "Nao se afastou",
         "Nao se afastou",
         "Nao se afastou",
         "Nao se afastou",
         "Nao se afastou",
         "Nao se afastou",
         "Nao se afastou",
         "Nao se afastou"
        ]
       ],
       "shape": {
        "columns": 59,
        "rows": 5
       }
      },
      "text/html": [
       "<div>\n",
       "<style scoped>\n",
       "    .dataframe tbody tr th:only-of-type {\n",
       "        vertical-align: middle;\n",
       "    }\n",
       "\n",
       "    .dataframe tbody tr th {\n",
       "        vertical-align: top;\n",
       "    }\n",
       "\n",
       "    .dataframe thead th {\n",
       "        text-align: right;\n",
       "    }\n",
       "</style>\n",
       "<table border=\"1\" class=\"dataframe\">\n",
       "  <thead>\n",
       "    <tr style=\"text-align: right;\">\n",
       "      <th></th>\n",
       "      <th>PIS</th>\n",
       "      <th>CPF</th>\n",
       "      <th>numectps</th>\n",
       "      <th>nome</th>\n",
       "      <th>identificad</th>\n",
       "      <th>radiccnpj</th>\n",
       "      <th>municipio</th>\n",
       "      <th>tpvinculo</th>\n",
       "      <th>empem3112</th>\n",
       "      <th>tipoadm</th>\n",
       "      <th>...</th>\n",
       "      <th>diainiaf3</th>\n",
       "      <th>diafimaf1</th>\n",
       "      <th>diafimaf2</th>\n",
       "      <th>diafimaf3</th>\n",
       "      <th>mesiniaf1</th>\n",
       "      <th>mesiniaf2</th>\n",
       "      <th>mesiniaf3</th>\n",
       "      <th>mesfimaf1</th>\n",
       "      <th>mesfimaf2</th>\n",
       "      <th>mesfimaf3</th>\n",
       "    </tr>\n",
       "  </thead>\n",
       "  <tbody>\n",
       "    <tr>\n",
       "      <th>2</th>\n",
       "      <td>12501500581</td>\n",
       "      <td>17087689800</td>\n",
       "      <td>54756</td>\n",
       "      <td>TATIANA FIEBIG DOS SANTOS</td>\n",
       "      <td>60922168002120</td>\n",
       "      <td>60922168</td>\n",
       "      <td>355030</td>\n",
       "      <td>CLT U/PJ IND</td>\n",
       "      <td>Nao</td>\n",
       "      <td>NAO ADMITIDO NO ANO</td>\n",
       "      <td>...</td>\n",
       "      <td>Nao se afastou</td>\n",
       "      <td>6</td>\n",
       "      <td>Nao se afastou</td>\n",
       "      <td>Nao se afastou</td>\n",
       "      <td>7</td>\n",
       "      <td>Nao se afastou</td>\n",
       "      <td>Nao se afastou</td>\n",
       "      <td>7</td>\n",
       "      <td>Nao se afastou</td>\n",
       "      <td>Nao se afastou</td>\n",
       "    </tr>\n",
       "    <tr>\n",
       "      <th>11</th>\n",
       "      <td>10664993254</td>\n",
       "      <td>93423497815</td>\n",
       "      <td>71325</td>\n",
       "      <td>DIOLINO GONCALVES FILGUEIRA</td>\n",
       "      <td>08015529000190</td>\n",
       "      <td>8015529</td>\n",
       "      <td>355030</td>\n",
       "      <td>CLT U/PJ IND</td>\n",
       "      <td>Sim</td>\n",
       "      <td>REEMPREGO</td>\n",
       "      <td>...</td>\n",
       "      <td>Nao se afastou</td>\n",
       "      <td>Nao se afastou</td>\n",
       "      <td>Nao se afastou</td>\n",
       "      <td>Nao se afastou</td>\n",
       "      <td>Nao se afastou</td>\n",
       "      <td>Nao se afastou</td>\n",
       "      <td>Nao se afastou</td>\n",
       "      <td>Nao se afastou</td>\n",
       "      <td>Nao se afastou</td>\n",
       "      <td>Nao se afastou</td>\n",
       "    </tr>\n",
       "    <tr>\n",
       "      <th>19</th>\n",
       "      <td>10890694270</td>\n",
       "      <td>07589552860</td>\n",
       "      <td>15336</td>\n",
       "      <td>LUIZ CARLOS DA SILVA</td>\n",
       "      <td>03617361000170</td>\n",
       "      <td>3617361</td>\n",
       "      <td>355030</td>\n",
       "      <td>CLT U/PJ IND</td>\n",
       "      <td>Sim</td>\n",
       "      <td>NAO ADMITIDO NO ANO</td>\n",
       "      <td>...</td>\n",
       "      <td>Nao se afastou</td>\n",
       "      <td>Nao se afastou</td>\n",
       "      <td>Nao se afastou</td>\n",
       "      <td>Nao se afastou</td>\n",
       "      <td>Nao se afastou</td>\n",
       "      <td>Nao se afastou</td>\n",
       "      <td>Nao se afastou</td>\n",
       "      <td>Nao se afastou</td>\n",
       "      <td>Nao se afastou</td>\n",
       "      <td>Nao se afastou</td>\n",
       "    </tr>\n",
       "    <tr>\n",
       "      <th>35</th>\n",
       "      <td>13059063299</td>\n",
       "      <td>22878093844</td>\n",
       "      <td>34679</td>\n",
       "      <td>PAULO SOARES DANTAS</td>\n",
       "      <td>03315079000138</td>\n",
       "      <td>3315079</td>\n",
       "      <td>355030</td>\n",
       "      <td>CLT U/PJ IND</td>\n",
       "      <td>Sim</td>\n",
       "      <td>PRIM EMPREGO</td>\n",
       "      <td>...</td>\n",
       "      <td>Nao se afastou</td>\n",
       "      <td>Nao se afastou</td>\n",
       "      <td>Nao se afastou</td>\n",
       "      <td>Nao se afastou</td>\n",
       "      <td>Nao se afastou</td>\n",
       "      <td>Nao se afastou</td>\n",
       "      <td>Nao se afastou</td>\n",
       "      <td>Nao se afastou</td>\n",
       "      <td>Nao se afastou</td>\n",
       "      <td>Nao se afastou</td>\n",
       "    </tr>\n",
       "    <tr>\n",
       "      <th>40</th>\n",
       "      <td>13195980893</td>\n",
       "      <td>01088631584</td>\n",
       "      <td>12875</td>\n",
       "      <td>EDILEUZA RIBEIRO MATOS</td>\n",
       "      <td>33700394049742</td>\n",
       "      <td>33700394</td>\n",
       "      <td>355030</td>\n",
       "      <td>CLT U/PJ IND</td>\n",
       "      <td>Sim</td>\n",
       "      <td>REEMPREGO</td>\n",
       "      <td>...</td>\n",
       "      <td>Nao se afastou</td>\n",
       "      <td>Nao se afastou</td>\n",
       "      <td>Nao se afastou</td>\n",
       "      <td>Nao se afastou</td>\n",
       "      <td>Nao se afastou</td>\n",
       "      <td>Nao se afastou</td>\n",
       "      <td>Nao se afastou</td>\n",
       "      <td>Nao se afastou</td>\n",
       "      <td>Nao se afastou</td>\n",
       "      <td>Nao se afastou</td>\n",
       "    </tr>\n",
       "  </tbody>\n",
       "</table>\n",
       "<p>5 rows × 59 columns</p>\n",
       "</div>"
      ],
      "text/plain": [
       "            PIS          CPF numectps                         nome  \\\n",
       "2   12501500581  17087689800    54756    TATIANA FIEBIG DOS SANTOS   \n",
       "11  10664993254  93423497815    71325  DIOLINO GONCALVES FILGUEIRA   \n",
       "19  10890694270  07589552860    15336         LUIZ CARLOS DA SILVA   \n",
       "35  13059063299  22878093844    34679          PAULO SOARES DANTAS   \n",
       "40  13195980893  01088631584    12875       EDILEUZA RIBEIRO MATOS   \n",
       "\n",
       "       identificad radiccnpj  municipio     tpvinculo empem3112  \\\n",
       "2   60922168002120  60922168     355030  CLT U/PJ IND       Nao   \n",
       "11  08015529000190   8015529     355030  CLT U/PJ IND       Sim   \n",
       "19  03617361000170   3617361     355030  CLT U/PJ IND       Sim   \n",
       "35  03315079000138   3315079     355030  CLT U/PJ IND       Sim   \n",
       "40  33700394049742  33700394     355030  CLT U/PJ IND       Sim   \n",
       "\n",
       "                tipoadm  ...       diainiaf3       diafimaf1       diafimaf2  \\\n",
       "2   NAO ADMITIDO NO ANO  ...  Nao se afastou               6  Nao se afastou   \n",
       "11            REEMPREGO  ...  Nao se afastou  Nao se afastou  Nao se afastou   \n",
       "19  NAO ADMITIDO NO ANO  ...  Nao se afastou  Nao se afastou  Nao se afastou   \n",
       "35         PRIM EMPREGO  ...  Nao se afastou  Nao se afastou  Nao se afastou   \n",
       "40            REEMPREGO  ...  Nao se afastou  Nao se afastou  Nao se afastou   \n",
       "\n",
       "         diafimaf3       mesiniaf1       mesiniaf2       mesiniaf3  \\\n",
       "2   Nao se afastou               7  Nao se afastou  Nao se afastou   \n",
       "11  Nao se afastou  Nao se afastou  Nao se afastou  Nao se afastou   \n",
       "19  Nao se afastou  Nao se afastou  Nao se afastou  Nao se afastou   \n",
       "35  Nao se afastou  Nao se afastou  Nao se afastou  Nao se afastou   \n",
       "40  Nao se afastou  Nao se afastou  Nao se afastou  Nao se afastou   \n",
       "\n",
       "         mesfimaf1       mesfimaf2       mesfimaf3  \n",
       "2                7  Nao se afastou  Nao se afastou  \n",
       "11  Nao se afastou  Nao se afastou  Nao se afastou  \n",
       "19  Nao se afastou  Nao se afastou  Nao se afastou  \n",
       "35  Nao se afastou  Nao se afastou  Nao se afastou  \n",
       "40  Nao se afastou  Nao se afastou  Nao se afastou  \n",
       "\n",
       "[5 rows x 59 columns]"
      ]
     },
     "execution_count": 27,
     "metadata": {},
     "output_type": "execute_result"
    }
   ],
   "source": [
    "df_sample.head()"
   ]
  },
  {
   "cell_type": "code",
   "execution_count": 28,
   "id": "bc447b23",
   "metadata": {},
   "outputs": [
    {
     "data": {
      "text/plain": [
       "np.float64(0.11061963206624416)"
      ]
     },
     "execution_count": 28,
     "metadata": {},
     "output_type": "execute_result"
    }
   ],
   "source": [
    "(df_total['municipio'] == 355030).mean()"
   ]
  },
  {
   "cell_type": "code",
   "execution_count": 29,
   "id": "ee123789",
   "metadata": {},
   "outputs": [
    {
     "name": "stdout",
     "output_type": "stream",
     "text": [
      "Found 11 files\n"
     ]
    }
   ],
   "source": [
    "dta_files = sorted(src_dir.glob(\"RAIS_*.dta\"))\n",
    "print(f\"Found {len(dta_files)} files\")\n"
   ]
  },
  {
   "cell_type": "code",
   "execution_count": 31,
   "id": "787ae86f",
   "metadata": {},
   "outputs": [
    {
     "name": "stdout",
     "output_type": "stream",
     "text": [
      "Processing year 2006...\n",
      "Saved 55,379 records to /Users/luisg/Desktop/SteppingStones_Parent/SteppingStones/data/interim/sp/RAIS_2006_sp.dta\n",
      "Processing year 2007...\n",
      "Saved 59,641 records to /Users/luisg/Desktop/SteppingStones_Parent/SteppingStones/data/interim/sp/RAIS_2007_sp.dta\n",
      "Processing year 2008...\n",
      "Saved 66,047 records to /Users/luisg/Desktop/SteppingStones_Parent/SteppingStones/data/interim/sp/RAIS_2008_sp.dta\n",
      "Processing year 2009...\n",
      "Saved 68,480 records to /Users/luisg/Desktop/SteppingStones_Parent/SteppingStones/data/interim/sp/RAIS_2009_sp.dta\n",
      "Processing year 2010...\n",
      "Saved 73,397 records to /Users/luisg/Desktop/SteppingStones_Parent/SteppingStones/data/interim/sp/RAIS_2010_sp.dta\n",
      "Processing year 2011...\n",
      "Saved 78,185 records to /Users/luisg/Desktop/SteppingStones_Parent/SteppingStones/data/interim/sp/RAIS_2011_sp.dta\n",
      "Processing year 2012...\n",
      "Saved 80,290 records to /Users/luisg/Desktop/SteppingStones_Parent/SteppingStones/data/interim/sp/RAIS_2012_sp.dta\n",
      "Processing year 2013...\n",
      "Saved 80,845 records to /Users/luisg/Desktop/SteppingStones_Parent/SteppingStones/data/interim/sp/RAIS_2013_sp.dta\n",
      "Processing year 2014...\n",
      "Saved 81,729 records to /Users/luisg/Desktop/SteppingStones_Parent/SteppingStones/data/interim/sp/RAIS_2014_sp.dta\n",
      "Processing year 2015...\n",
      "Saved 76,201 records to /Users/luisg/Desktop/SteppingStones_Parent/SteppingStones/data/interim/sp/RAIS_2015_sp.dta\n",
      "Processing year 2016...\n",
      "Saved 71,350 records to /Users/luisg/Desktop/SteppingStones_Parent/SteppingStones/data/interim/sp/RAIS_2016_sp.dta\n"
     ]
    }
   ],
   "source": [
    "for f in dta_files:\n",
    "    year_match = re.search(r\"RAIS_(\\d{4})\\.dta\", f.name)\n",
    "    if not year_match:\n",
    "        continue\n",
    "\n",
    "    year = int(year_match.group(1))\n",
    "\n",
    "    # skip if outside range\n",
    "    if year < start_year or year > end_year:\n",
    "        continue\n",
    "\n",
    "    print(f\"Processing year {year}...\")\n",
    "    df_year = pd.read_stata(f, convert_categoricals=False)\n",
    "    df_year_sample = df_year[df_year['municipio'] == mun_code]\n",
    "    out_path = out_dir / f\"RAIS_{year}_sp.dta\"\n",
    "    df_year_sample.to_stata(out_path, write_index=False, version=119)\n",
    "    print(f\"Saved {len(df_year_sample):,} records to {out_path}\")"
   ]
  },
  {
   "cell_type": "code",
   "execution_count": null,
   "id": "da253c48",
   "metadata": {},
   "outputs": [
    {
     "name": "stdout",
     "output_type": "stream",
     "text": [
      "✅ Zipped to: /Users/luisg/Desktop/SteppingStones_Parent/SteppingStones/data/interim/sp.zip\n"
     ]
    }
   ],
   "source": [
    "# remove existing zip if it already exists\n",
    "if zip_path.exists():\n",
    "    zip_path.unlink()\n",
    "\n",
    "# create zip archive\n",
    "shutil.make_archive(base_name=zip_path, format=\"zip\", root_dir=out_dir)\n",
    "\n",
    "print(f\"✅ Zipped to: {zip_path}\")"
   ]
  },
  {
   "cell_type": "code",
   "execution_count": null,
   "id": "ab9df4c9",
   "metadata": {},
   "outputs": [],
   "source": []
  }
 ],
 "metadata": {
  "kernelspec": {
   "display_name": "Python 3",
   "language": "python",
   "name": "python3"
  },
  "language_info": {
   "codemirror_mode": {
    "name": "ipython",
    "version": 3
   },
   "file_extension": ".py",
   "mimetype": "text/x-python",
   "name": "python",
   "nbconvert_exporter": "python",
   "pygments_lexer": "ipython3",
   "version": "3.12.4"
  }
 },
 "nbformat": 4,
 "nbformat_minor": 5
}
