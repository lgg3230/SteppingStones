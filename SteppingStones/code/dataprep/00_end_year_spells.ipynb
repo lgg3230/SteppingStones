{
 "cells": [
  {
   "cell_type": "code",
   "execution_count": 20,
   "id": "a1a55a77",
   "metadata": {},
   "outputs": [],
   "source": [
    "import pandas as pd\n",
    "import numpy as np\n",
    "from pathlib import Path\n",
    "import shutil\n",
    "import re"
   ]
  },
  {
   "cell_type": "code",
   "execution_count": 21,
   "id": "b6f77bac",
   "metadata": {},
   "outputs": [],
   "source": [
    "src_dir = Path(\"/Users/luisg/Desktop/SteppingStones_Parent/RAIS/output/data/full/rj_sample\")\n",
    "out_dir = Path(\"/Users/luisg/Desktop/SteppingStones_Parent/SteppingStones/data/interim/sample\")\n",
    "out_dir.mkdir(parents=True, exist_ok=True)"
   ]
  },
  {
   "cell_type": "code",
   "execution_count": 16,
   "id": "5afeb4d7",
   "metadata": {},
   "outputs": [
    {
     "name": "stdout",
     "output_type": "stream",
     "text": [
      "Found 11 files\n"
     ]
    }
   ],
   "source": [
    "dta_files = sorted(src_dir.glob(\"RAIS_*.dta\"))\n",
    "print(f\"Found {len(dta_files)} files\")\n"
   ]
  },
  {
   "cell_type": "code",
   "execution_count": null,
   "id": "86003e2e",
   "metadata": {},
   "outputs": [
    {
     "name": "stdout",
     "output_type": "stream",
     "text": [
      "Processing year 2007...\n",
      "  Selected 2004224 unique workers.\n",
      "Processing year 2008...\n",
      "  Selected 2001473 unique workers.\n",
      "Processing year 2009...\n",
      "  Selected 2059540 unique workers.\n",
      "Processing year 2010...\n",
      "  Selected 2167451 unique workers.\n",
      "Processing year 2011...\n",
      "  Selected 2297594 unique workers.\n",
      "Processing year 2012...\n",
      "  Selected 2370306 unique workers.\n",
      "Processing year 2013...\n",
      "  Selected 2421445 unique workers.\n",
      "Processing year 2014...\n",
      "  Selected 2458131 unique workers.\n",
      "Processing year 2015...\n",
      "  Selected 2352203 unique workers.\n",
      "Processing year 2016...\n",
      "  Selected 2216608 unique workers.\n",
      "Processing year 2017...\n",
      "  Selected 2146133 unique workers.\n"
     ]
    }
   ],
   "source": [
    "df_list = []\n",
    "\n",
    "rng  = np.random.default_rng(seed=123)\n",
    "\n",
    "for f in dta_files:\n",
    "    year = re.search(r\"RAIS_(\\d{4})\\_rj.dta\", f.name).group(1)\n",
    "    print(f\"Processing year {year}...\")\n",
    "    df_year = pd.read_stata(f, convert_categoricals=False)\n",
    "    df_year['emp_in_dec'] = ((df_year['empem3112']==1 )& (df_year['tempempr']>1)).astype(int)\n",
    "    df_year = df_year[df_year['emp_in_dec'] == 1].copy()\n",
    "\n",
    "    df_year['remmedr_h'] = (df_year['remmedr'])/(df_year['horascontr']*4.348)\n",
    "    df_year['remdezr_h'] = (df_year['remdezr'])/(df_year['horascontr']*4.348)\n",
    "    df_year['_rand'] = rng.random(len(df_year))\n",
    "\n",
    "    worker_id  = df_year['PIS']\n",
    "    hours = df_year['horascontr']\n",
    "    avg_w_h = df_year['remmedr_h']\n",
    "    max_hours = hours.groupby(worker_id).transform('max')\n",
    "    max_hours.head()\n",
    "    rank1 = hours.eq(max_hours)\n",
    "    max_avg_w_and_rank1 = avg_w_h.where(rank1).groupby(worker_id).transform('max')\n",
    "    rank2 = rank1 & avg_w_h.eq(max_avg_w_and_rank1)\n",
    "    idx = (\n",
    "    df_year.loc[rank2]\n",
    "      .groupby(worker_id[rank2])['_rand']   # <- use the column name here\n",
    "      .idxmax())\n",
    "      # Grab the winning rows\n",
    "    df_selected = df_year.loc[idx].copy()\n",
    "    df_selected['year'] = int(year)\n",
    "    df_list.append(df_selected)\n",
    "    print(f\"  Selected {len(df_selected)} unique workers.\")\n",
    "    # build panel AFTER the loop (faster)\n",
    "df_panel = pd.concat(df_list, ignore_index=True)\n",
    "\n",
    "# 1) Drop helper\n",
    "if '_rand' in df_panel.columns:\n",
    "    df_panel.drop(columns='_rand', inplace=True)\n",
    "\n",
    "# 2) Replace +-inf from divisions\n",
    "df_panel.replace([np.inf, -np.inf], np.nan, inplace=True)\n",
    "\n",
    "# 3) Drop columns that are entirely NaN (e.g., clascnae95 in some years)\n",
    "all_null_cols = [c for c in df_panel.columns if df_panel[c].isna().all()]\n",
    "if all_null_cols:\n",
    "    df_panel.drop(columns=all_null_cols, inplace=True)\n",
    "\n",
    "# 4) Coerce object columns to pure strings (Stata requires string-like)\n",
    "for c in df_panel.select_dtypes(include='object').columns:\n",
    "    df_panel[c] = df_panel[c].astype(str).where(df_panel[c].notna(), None)\n",
    "\n",
    "# 5) Pandas nullable integers (Int64) → float (to keep NaN)\n",
    "for c in df_panel.columns:\n",
    "    if str(df_panel[c].dtype) == 'Int64':\n",
    "        df_panel[c] = df_panel[c].astype('float64')\n",
    "\n",
    "# 6) Booleans → tiny ints\n",
    "for c in df_panel.select_dtypes(include='bool').columns:\n",
    "    df_panel[c] = df_panel[c].astype('int8')\n",
    "\n",
    "# Save with UTF-8 Stata format\n",
    "out_path = out_dir / \"RAIS_panel_endyear.dta\"\n",
    "df_panel.to_stata(out_path, write_index=False, version=119)\n",
    "print(f\"✅ Combined panel: {len(df_panel):,} rows → {out_path}\")\n"
   ]
  }
 ],
 "metadata": {
  "kernelspec": {
   "display_name": "Python 3",
   "language": "python",
   "name": "python3"
  },
  "language_info": {
   "codemirror_mode": {
    "name": "ipython",
    "version": 3
   },
   "file_extension": ".py",
   "mimetype": "text/x-python",
   "name": "python",
   "nbconvert_exporter": "python",
   "pygments_lexer": "ipython3",
   "version": "3.12.4"
  }
 },
 "nbformat": 4,
 "nbformat_minor": 5
}
