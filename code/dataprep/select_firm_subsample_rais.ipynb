{
 "cells": [
  {
   "cell_type": "code",
   "execution_count": 1,
   "id": "73cdeba6",
   "metadata": {},
   "outputs": [],
   "source": [
    "import pandas as pd\n",
    "import numpy as np\n",
    "from pathlib import Path\n",
    "import shutil\n",
    "import re"
   ]
  },
  {
   "cell_type": "code",
   "execution_count": 4,
   "id": "3b3344d7",
   "metadata": {},
   "outputs": [],
   "source": [
    "# Configure source and output directories:\n",
    "src_dir = Path(\"/kellogg/proj/lgg3230/RAIS/output/data/full\") \n",
    "out_dir = Path(\"/kellogg/proj/lgg3230/SteppingStones/data/interim/rj_sample\")\n",
    "# Create output directory if it doesn't exist\n",
    "out_dir.mkdir(parents=True, exist_ok=True)\n"
   ]
  },
  {
   "cell_type": "code",
   "execution_count": 5,
   "id": "cc1ed6c8",
   "metadata": {},
   "outputs": [
    {
     "name": "stdout",
     "output_type": "stream",
     "text": [
      "Found 34 files\n"
     ]
    }
   ],
   "source": [
    "# List all .dta files in the source directory\n",
    "dta_files = sorted(src_dir.glob(\"RAIS_*.dta\"))\n",
    "print(f\"Found {len(dta_files)} files\")"
   ]
  },
  {
   "cell_type": "code",
   "execution_count": 6,
   "id": "1fadd76f",
   "metadata": {},
   "outputs": [],
   "source": [
    "mun_code = 330455\n",
    "start_year = 2007\n",
    "end_year   = 2017"
   ]
  },
  {
   "cell_type": "code",
   "execution_count": null,
   "id": "de07e145",
   "metadata": {},
   "outputs": [],
   "source": [
    "for f in dta_files:\n",
    "    year_match = re.search(r\"RAIS_(\\d{4})\\.dta\", f.name)\n",
    "    if not year_match:\n",
    "        continue\n",
    "\n",
    "    year = int(year_match.group(1))\n",
    "\n",
    "    # skip if outside range\n",
    "    if year < start_year or year > end_year:\n",
    "        continue\n",
    "\n",
    "    print(f\"Processing year {year}...\")\n",
    "    df_year = pd.read_stata(f, convert_categoricals=False)\n",
    "    df_year_sample = df_year[df_year['municipio'] == mun_code]\n",
    "    out_path = out_dir / f\"RAIS_{year}_rj.dta\"\n",
    "    df_year_sample.to_stata(out_path, write_index=False, version=119)\n",
    "    print(f\"Saved {len(df_year_sample):,} records to {out_path}\")\n"
   ]
  }
 ],
 "metadata": {
  "kernelspec": {
   "display_name": "Python 3",
   "language": "python",
   "name": "python3"
  },
  "language_info": {
   "codemirror_mode": {
    "name": "ipython",
    "version": 3
   },
   "file_extension": ".py",
   "mimetype": "text/x-python",
   "name": "python",
   "nbconvert_exporter": "python",
   "pygments_lexer": "ipython3",
   "version": "3.6.8"
  }
 },
 "nbformat": 4,
 "nbformat_minor": 5
}
