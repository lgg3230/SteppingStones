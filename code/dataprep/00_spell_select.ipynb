{
 "cells": [
  {
   "cell_type": "code",
   "execution_count": 87,
   "id": "d23f8277",
   "metadata": {},
   "outputs": [],
   "source": [
    "import numpy as np\n",
    "import pandas as pd\n",
    "import os\n",
    "\n",
    "from pathlib import Path\n",
    "import getpass\n",
    "import os\n",
    "import subprocess\n",
    "from typing import Dict"
   ]
  },
  {
   "cell_type": "code",
   "execution_count": 88,
   "id": "0c93c037",
   "metadata": {},
   "outputs": [],
   "source": [
    "vars = ['PIS','identificad', 'municipio',\n",
    "        'remmedr','remdezr', 'horascontr',\n",
    "        'dtadmissao','causadesli','mesdesli', 'empem3112',\n",
    "        'clascnae20', 'natjuridica',\n",
    "        'ocup2002','genero','tempempr','raca_cor','grinstrucao', ]\n",
    "       \n",
    "        \n",
    "\n",
    "        \n",
    "        "
   ]
  },
  {
   "cell_type": "code",
   "execution_count": 135,
   "id": "f15a6d34",
   "metadata": {},
   "outputs": [],
   "source": [
    "\n",
    "df_total = pd.read_stata(\"/Users/luisg/Desktop/SteppingStones_Parent/RAIS/output/data/full/RAIS_2008.dta\", convert_categoricals=False)\n",
    "\n",
    "df = pd.read_stata(\"/Users/luisg/Desktop/SteppingStones_Parent/RAIS/output/data/full/RAIS_2008.dta\", columns=vars, convert_categoricals=False)\n",
    "\n"
   ]
  },
  {
   "cell_type": "code",
   "execution_count": 136,
   "id": "919fd30d",
   "metadata": {},
   "outputs": [
    {
     "data": {
      "text/plain": [
       "Index(['PIS', 'CPF', 'numectps', 'nome', 'identificad', 'radiccnpj',\n",
       "       'municipio', 'tpvinculo', 'empem3112', 'tipoadm', 'dtadmissao',\n",
       "       'causadesli', 'diadesli', 'mesdesli', 'ocupacao94', 'ocup2002',\n",
       "       'grinstrucao', 'genero', 'dtnascimento', 'nacionalidad', 'portdefic',\n",
       "       'tpdefic', 'raca_cor', 'remdezembro', 'remdezr', 'remmedia', 'remmedr',\n",
       "       'tempempr', 'tiposal', 'salcontr', 'ultrem', 'horascontr', 'clascnae95',\n",
       "       'clascnae20', 'sbclas20', 'tamestab', 'natjuridica', 'tipoestbl',\n",
       "       'indceivinc', 'ceivinc', 'indalvara', 'indpat', 'indsimples',\n",
       "       'qtdiasafas', 'causafast1', 'causafast2', 'causafast3', 'diainiaf1',\n",
       "       'diainiaf2', 'diainiaf3', 'diafimaf1', 'diafimaf2', 'diafimaf3',\n",
       "       'mesiniaf1', 'mesiniaf2', 'mesiniaf3', 'mesfimaf1', 'mesfimaf2',\n",
       "       'mesfimaf3'],\n",
       "      dtype='object')"
      ]
     },
     "execution_count": 136,
     "metadata": {},
     "output_type": "execute_result"
    }
   ],
   "source": [
    "df_total.columns"
   ]
  },
  {
   "cell_type": "code",
   "execution_count": null,
   "id": "5aa6285c",
   "metadata": {},
   "outputs": [],
   "source": []
  },
  {
   "cell_type": "code",
   "execution_count": 137,
   "id": "bfec9d2f",
   "metadata": {},
   "outputs": [
    {
     "data": {
      "text/plain": [
       "[0,\n",
       " 11,\n",
       " 12,\n",
       " 21,\n",
       " 10,\n",
       " 31,\n",
       " 30,\n",
       " 60,\n",
       " 20,\n",
       " 40,\n",
       " 50,\n",
       " 71,\n",
       " 70,\n",
       " 73,\n",
       " 76,\n",
       " 75,\n",
       " 74,\n",
       " 72,\n",
       " 62,\n",
       " 22,\n",
       " 79,\n",
       " 78,\n",
       " 80,\n",
       " 63,\n",
       " 64]"
      ]
     },
     "execution_count": 137,
     "metadata": {},
     "output_type": "execute_result"
    }
   ],
   "source": [
    "causadesliUnicos = df.causadesli.unique().tolist()\n",
    "\n",
    "\n",
    "causadesliUnicos"
   ]
  },
  {
   "cell_type": "code",
   "execution_count": 138,
   "id": "776e5015",
   "metadata": {},
   "outputs": [
    {
     "data": {
      "text/plain": [
       "[1, 0]"
      ]
     },
     "execution_count": 138,
     "metadata": {},
     "output_type": "execute_result"
    }
   ],
   "source": [
    "empem3112Unicos = df.empem3112.unique().tolist()\n",
    "empem3112Unicos"
   ]
  },
  {
   "cell_type": "code",
   "execution_count": 142,
   "id": "2d58297a",
   "metadata": {},
   "outputs": [
    {
     "data": {
      "application/vnd.microsoft.datawrangler.viewer.v0+json": {
       "columns": [
        {
         "name": "index",
         "rawType": "int64",
         "type": "integer"
        },
        {
         "name": "dtadmissao",
         "rawType": "object",
         "type": "string"
        },
        {
         "name": "dtadmissao_date",
         "rawType": "datetime64[ns]",
         "type": "datetime"
        }
       ],
       "ref": "857f783b-195e-43bc-8475-8db99f2c602c",
       "rows": [
        [
         "0",
         "28072008",
         "2008-07-28 00:00:00"
        ],
        [
         "1",
         "14031986",
         "1986-03-14 00:00:00"
        ],
        [
         "2",
         "14062004",
         "2004-06-14 00:00:00"
        ],
        [
         "3",
         "11052000",
         "2000-05-11 00:00:00"
        ],
        [
         "4",
         "13022008",
         "2008-02-13 00:00:00"
        ]
       ],
       "shape": {
        "columns": 2,
        "rows": 5
       }
      },
      "text/html": [
       "<div>\n",
       "<style scoped>\n",
       "    .dataframe tbody tr th:only-of-type {\n",
       "        vertical-align: middle;\n",
       "    }\n",
       "\n",
       "    .dataframe tbody tr th {\n",
       "        vertical-align: top;\n",
       "    }\n",
       "\n",
       "    .dataframe thead th {\n",
       "        text-align: right;\n",
       "    }\n",
       "</style>\n",
       "<table border=\"1\" class=\"dataframe\">\n",
       "  <thead>\n",
       "    <tr style=\"text-align: right;\">\n",
       "      <th></th>\n",
       "      <th>dtadmissao</th>\n",
       "      <th>dtadmissao_date</th>\n",
       "    </tr>\n",
       "  </thead>\n",
       "  <tbody>\n",
       "    <tr>\n",
       "      <th>0</th>\n",
       "      <td>28072008</td>\n",
       "      <td>2008-07-28</td>\n",
       "    </tr>\n",
       "    <tr>\n",
       "      <th>1</th>\n",
       "      <td>14031986</td>\n",
       "      <td>1986-03-14</td>\n",
       "    </tr>\n",
       "    <tr>\n",
       "      <th>2</th>\n",
       "      <td>14062004</td>\n",
       "      <td>2004-06-14</td>\n",
       "    </tr>\n",
       "    <tr>\n",
       "      <th>3</th>\n",
       "      <td>11052000</td>\n",
       "      <td>2000-05-11</td>\n",
       "    </tr>\n",
       "    <tr>\n",
       "      <th>4</th>\n",
       "      <td>13022008</td>\n",
       "      <td>2008-02-13</td>\n",
       "    </tr>\n",
       "  </tbody>\n",
       "</table>\n",
       "</div>"
      ],
      "text/plain": [
       "  dtadmissao dtadmissao_date\n",
       "0   28072008      2008-07-28\n",
       "1   14031986      1986-03-14\n",
       "2   14062004      2004-06-14\n",
       "3   11052000      2000-05-11\n",
       "4   13022008      2008-02-13"
      ]
     },
     "execution_count": 142,
     "metadata": {},
     "output_type": "execute_result"
    }
   ],
   "source": [
    "df['dtadmissao'].head()\n",
    "df['dtadmissao'].dtype\n",
    "\n",
    "df['dtadmissao_date'] = pd.to_datetime(df['dtadmissao'], format=\"%d%m%Y\", errors='coerce')\n",
    "df[['dtadmissao','dtadmissao_date']].head()"
   ]
  },
  {
   "cell_type": "code",
   "execution_count": 145,
   "id": "b5ef977f",
   "metadata": {},
   "outputs": [
    {
     "data": {
      "application/vnd.microsoft.datawrangler.viewer.v0+json": {
       "columns": [
        {
         "name": "index",
         "rawType": "int64",
         "type": "integer"
        },
        {
         "name": "empem3112",
         "rawType": "int8",
         "type": "integer"
        },
        {
         "name": "tempempr",
         "rawType": "float64",
         "type": "float"
        },
        {
         "name": "emp_in_dec",
         "rawType": "int64",
         "type": "integer"
        }
       ],
       "ref": "c3f0f576-5e02-440b-9823-d0b39867a0a9",
       "rows": [
        [
         "0",
         "1",
         "5.0",
         "1"
        ],
        [
         "1",
         "1",
         "273.5",
         "1"
        ],
        [
         "2",
         "0",
         "49.3",
         "0"
        ],
        [
         "3",
         "1",
         "103.6",
         "1"
        ],
        [
         "4",
         "0",
         "1.9",
         "0"
        ]
       ],
       "shape": {
        "columns": 3,
        "rows": 5
       }
      },
      "text/html": [
       "<div>\n",
       "<style scoped>\n",
       "    .dataframe tbody tr th:only-of-type {\n",
       "        vertical-align: middle;\n",
       "    }\n",
       "\n",
       "    .dataframe tbody tr th {\n",
       "        vertical-align: top;\n",
       "    }\n",
       "\n",
       "    .dataframe thead th {\n",
       "        text-align: right;\n",
       "    }\n",
       "</style>\n",
       "<table border=\"1\" class=\"dataframe\">\n",
       "  <thead>\n",
       "    <tr style=\"text-align: right;\">\n",
       "      <th></th>\n",
       "      <th>empem3112</th>\n",
       "      <th>tempempr</th>\n",
       "      <th>emp_in_dec</th>\n",
       "    </tr>\n",
       "  </thead>\n",
       "  <tbody>\n",
       "    <tr>\n",
       "      <th>0</th>\n",
       "      <td>1</td>\n",
       "      <td>5.0</td>\n",
       "      <td>1</td>\n",
       "    </tr>\n",
       "    <tr>\n",
       "      <th>1</th>\n",
       "      <td>1</td>\n",
       "      <td>273.5</td>\n",
       "      <td>1</td>\n",
       "    </tr>\n",
       "    <tr>\n",
       "      <th>2</th>\n",
       "      <td>0</td>\n",
       "      <td>49.3</td>\n",
       "      <td>0</td>\n",
       "    </tr>\n",
       "    <tr>\n",
       "      <th>3</th>\n",
       "      <td>1</td>\n",
       "      <td>103.6</td>\n",
       "      <td>1</td>\n",
       "    </tr>\n",
       "    <tr>\n",
       "      <th>4</th>\n",
       "      <td>0</td>\n",
       "      <td>1.9</td>\n",
       "      <td>0</td>\n",
       "    </tr>\n",
       "  </tbody>\n",
       "</table>\n",
       "</div>"
      ],
      "text/plain": [
       "   empem3112  tempempr  emp_in_dec\n",
       "0          1       5.0           1\n",
       "1          1     273.5           1\n",
       "2          0      49.3           0\n",
       "3          1     103.6           1\n",
       "4          0       1.9           0"
      ]
     },
     "execution_count": 145,
     "metadata": {},
     "output_type": "execute_result"
    }
   ],
   "source": [
    "df['emp_in_dec'] = ((df['empem3112']==1 )& (df['tempempr']>1)).astype(int)\n",
    "df[['empem3112','tempempr','emp_in_dec']].head()"
   ]
  },
  {
   "cell_type": "code",
   "execution_count": 146,
   "id": "85217890",
   "metadata": {},
   "outputs": [
    {
     "data": {
      "application/vnd.microsoft.datawrangler.viewer.v0+json": {
       "columns": [
        {
         "name": "emp_in_dec",
         "rawType": "int64",
         "type": "integer"
        },
        {
         "name": "('remmedr', 'count')",
         "rawType": "int64",
         "type": "integer"
        },
        {
         "name": "('remmedr', 'mean')",
         "rawType": "float64",
         "type": "float"
        },
        {
         "name": "('remmedr', 'min')",
         "rawType": "float64",
         "type": "float"
        },
        {
         "name": "('remmedr', 'max')",
         "rawType": "float64",
         "type": "float"
        },
        {
         "name": "('remdezr', 'count')",
         "rawType": "int64",
         "type": "integer"
        },
        {
         "name": "('remdezr', 'mean')",
         "rawType": "float64",
         "type": "float"
        },
        {
         "name": "('remdezr', 'min')",
         "rawType": "float64",
         "type": "float"
        },
        {
         "name": "('remdezr', 'max')",
         "rawType": "float64",
         "type": "float"
        }
       ],
       "ref": "aaff189d-613b-4760-ab67-36745870ca13",
       "rows": [
        [
         "0",
         "213531",
         "982.8727712135475",
         "0.0",
         "60969.69",
         "213531",
         "197.28988071989548",
         "0.0",
         "60576.0"
        ],
        [
         "1",
         "383533",
         "1374.157815885465",
         "0.0",
         "59562.85",
         "383533",
         "1455.2951395838168",
         "0.0",
         "62146.06"
        ]
       ],
       "shape": {
        "columns": 8,
        "rows": 2
       }
      },
      "text/html": [
       "<div>\n",
       "<style scoped>\n",
       "    .dataframe tbody tr th:only-of-type {\n",
       "        vertical-align: middle;\n",
       "    }\n",
       "\n",
       "    .dataframe tbody tr th {\n",
       "        vertical-align: top;\n",
       "    }\n",
       "\n",
       "    .dataframe thead tr th {\n",
       "        text-align: left;\n",
       "    }\n",
       "\n",
       "    .dataframe thead tr:last-of-type th {\n",
       "        text-align: right;\n",
       "    }\n",
       "</style>\n",
       "<table border=\"1\" class=\"dataframe\">\n",
       "  <thead>\n",
       "    <tr>\n",
       "      <th></th>\n",
       "      <th colspan=\"4\" halign=\"left\">remmedr</th>\n",
       "      <th colspan=\"4\" halign=\"left\">remdezr</th>\n",
       "    </tr>\n",
       "    <tr>\n",
       "      <th></th>\n",
       "      <th>count</th>\n",
       "      <th>mean</th>\n",
       "      <th>min</th>\n",
       "      <th>max</th>\n",
       "      <th>count</th>\n",
       "      <th>mean</th>\n",
       "      <th>min</th>\n",
       "      <th>max</th>\n",
       "    </tr>\n",
       "    <tr>\n",
       "      <th>emp_in_dec</th>\n",
       "      <th></th>\n",
       "      <th></th>\n",
       "      <th></th>\n",
       "      <th></th>\n",
       "      <th></th>\n",
       "      <th></th>\n",
       "      <th></th>\n",
       "      <th></th>\n",
       "    </tr>\n",
       "  </thead>\n",
       "  <tbody>\n",
       "    <tr>\n",
       "      <th>0</th>\n",
       "      <td>213531</td>\n",
       "      <td>982.872771</td>\n",
       "      <td>0.0</td>\n",
       "      <td>60969.69</td>\n",
       "      <td>213531</td>\n",
       "      <td>197.289881</td>\n",
       "      <td>0.0</td>\n",
       "      <td>60576.00</td>\n",
       "    </tr>\n",
       "    <tr>\n",
       "      <th>1</th>\n",
       "      <td>383533</td>\n",
       "      <td>1374.157816</td>\n",
       "      <td>0.0</td>\n",
       "      <td>59562.85</td>\n",
       "      <td>383533</td>\n",
       "      <td>1455.295140</td>\n",
       "      <td>0.0</td>\n",
       "      <td>62146.06</td>\n",
       "    </tr>\n",
       "  </tbody>\n",
       "</table>\n",
       "</div>"
      ],
      "text/plain": [
       "           remmedr                             remdezr                    \\\n",
       "             count         mean  min       max   count         mean  min   \n",
       "emp_in_dec                                                                 \n",
       "0           213531   982.872771  0.0  60969.69  213531   197.289881  0.0   \n",
       "1           383533  1374.157816  0.0  59562.85  383533  1455.295140  0.0   \n",
       "\n",
       "                      \n",
       "                 max  \n",
       "emp_in_dec            \n",
       "0           60576.00  \n",
       "1           62146.06  "
      ]
     },
     "execution_count": 146,
     "metadata": {},
     "output_type": "execute_result"
    }
   ],
   "source": [
    "# what is the average mean earnings across emp in dec and non emp in dec? \n",
    "df.groupby('emp_in_dec')[['remmedr', 'remdezr']].agg(['count', 'mean','min','max'])\n",
    "\n",
    "# best to select spells by hourly remmedr."
   ]
  },
  {
   "cell_type": "code",
   "execution_count": 147,
   "id": "b695fa43",
   "metadata": {},
   "outputs": [
    {
     "data": {
      "application/vnd.microsoft.datawrangler.viewer.v0+json": {
       "columns": [
        {
         "name": "index",
         "rawType": "int64",
         "type": "integer"
        },
        {
         "name": "PIS",
         "rawType": "object",
         "type": "string"
        },
        {
         "name": "remmedr",
         "rawType": "float64",
         "type": "float"
        },
        {
         "name": "horascontr",
         "rawType": "int8",
         "type": "integer"
        },
        {
         "name": "remmedr_h",
         "rawType": "float64",
         "type": "float"
        },
        {
         "name": "remdezr",
         "rawType": "float64",
         "type": "float"
        },
        {
         "name": "remdezr_h",
         "rawType": "float64",
         "type": "float"
        }
       ],
       "ref": "1bd59bdc-c130-4039-9524-015f72da7cef",
       "rows": [
        [
         "0",
         "12749329932",
         "4026.57",
         "44",
         "21.04713765994815",
         "1485.66",
         "7.7656393744250245"
        ],
        [
         "1",
         "10701706985",
         "14784.73",
         "36",
         "94.45421905346008",
         "15877.5",
         "101.43552591229685"
        ],
        [
         "2",
         "12501500581",
         "1541.59",
         "36",
         "9.848653276091179",
         "0.0",
         "0.0"
        ],
        [
         "3",
         "12749437603",
         "975.52",
         "30",
         "7.4786875191659",
         "1991.58",
         "15.26816927322907"
        ],
        [
         "4",
         "17015208715",
         "528.91",
         "44",
         "2.764646232332525",
         "0.0",
         "0.0"
        ]
       ],
       "shape": {
        "columns": 6,
        "rows": 5
       }
      },
      "text/html": [
       "<div>\n",
       "<style scoped>\n",
       "    .dataframe tbody tr th:only-of-type {\n",
       "        vertical-align: middle;\n",
       "    }\n",
       "\n",
       "    .dataframe tbody tr th {\n",
       "        vertical-align: top;\n",
       "    }\n",
       "\n",
       "    .dataframe thead th {\n",
       "        text-align: right;\n",
       "    }\n",
       "</style>\n",
       "<table border=\"1\" class=\"dataframe\">\n",
       "  <thead>\n",
       "    <tr style=\"text-align: right;\">\n",
       "      <th></th>\n",
       "      <th>PIS</th>\n",
       "      <th>remmedr</th>\n",
       "      <th>horascontr</th>\n",
       "      <th>remmedr_h</th>\n",
       "      <th>remdezr</th>\n",
       "      <th>remdezr_h</th>\n",
       "    </tr>\n",
       "  </thead>\n",
       "  <tbody>\n",
       "    <tr>\n",
       "      <th>0</th>\n",
       "      <td>12749329932</td>\n",
       "      <td>4026.57</td>\n",
       "      <td>44</td>\n",
       "      <td>21.047138</td>\n",
       "      <td>1485.66</td>\n",
       "      <td>7.765639</td>\n",
       "    </tr>\n",
       "    <tr>\n",
       "      <th>1</th>\n",
       "      <td>10701706985</td>\n",
       "      <td>14784.73</td>\n",
       "      <td>36</td>\n",
       "      <td>94.454219</td>\n",
       "      <td>15877.50</td>\n",
       "      <td>101.435526</td>\n",
       "    </tr>\n",
       "    <tr>\n",
       "      <th>2</th>\n",
       "      <td>12501500581</td>\n",
       "      <td>1541.59</td>\n",
       "      <td>36</td>\n",
       "      <td>9.848653</td>\n",
       "      <td>0.00</td>\n",
       "      <td>0.000000</td>\n",
       "    </tr>\n",
       "    <tr>\n",
       "      <th>3</th>\n",
       "      <td>12749437603</td>\n",
       "      <td>975.52</td>\n",
       "      <td>30</td>\n",
       "      <td>7.478688</td>\n",
       "      <td>1991.58</td>\n",
       "      <td>15.268169</td>\n",
       "    </tr>\n",
       "    <tr>\n",
       "      <th>4</th>\n",
       "      <td>17015208715</td>\n",
       "      <td>528.91</td>\n",
       "      <td>44</td>\n",
       "      <td>2.764646</td>\n",
       "      <td>0.00</td>\n",
       "      <td>0.000000</td>\n",
       "    </tr>\n",
       "  </tbody>\n",
       "</table>\n",
       "</div>"
      ],
      "text/plain": [
       "           PIS   remmedr  horascontr  remmedr_h   remdezr   remdezr_h\n",
       "0  12749329932   4026.57          44  21.047138   1485.66    7.765639\n",
       "1  10701706985  14784.73          36  94.454219  15877.50  101.435526\n",
       "2  12501500581   1541.59          36   9.848653      0.00    0.000000\n",
       "3  12749437603    975.52          30   7.478688   1991.58   15.268169\n",
       "4  17015208715    528.91          44   2.764646      0.00    0.000000"
      ]
     },
     "execution_count": 147,
     "metadata": {},
     "output_type": "execute_result"
    }
   ],
   "source": [
    "# define hourly wages:\n",
    "df['remmedr_h'] = (df['remmedr'])/(df['horascontr']*4.348)\n",
    "df['remdezr_h'] = (df['remdezr'])/(df['horascontr']*4.348) \n",
    "\n",
    "df[['PIS','remmedr','horascontr','remmedr_h','remdezr','remdezr_h']].head()"
   ]
  },
  {
   "cell_type": "code",
   "execution_count": null,
   "id": "02bb1e97",
   "metadata": {},
   "outputs": [],
   "source": [
    "# select only one spell according to criteria:\n",
    "\n",
    "# 1) highest horascontr:\n"
   ]
  },
  {
   "cell_type": "code",
   "execution_count": 148,
   "id": "873c1bf9",
   "metadata": {},
   "outputs": [],
   "source": [
    "worker_id  = df['PIS']\n",
    "hours = df['horascontr'].fillna(-np.inf)\n",
    "avg_w_h = df['remmedr_h'].fillna(-np.inf)"
   ]
  },
  {
   "cell_type": "code",
   "execution_count": 149,
   "id": "c2ff99d8",
   "metadata": {},
   "outputs": [
    {
     "data": {
      "application/vnd.microsoft.datawrangler.viewer.v0+json": {
       "columns": [
        {
         "name": "index",
         "rawType": "int64",
         "type": "integer"
        },
        {
         "name": "horascontr",
         "rawType": "int8",
         "type": "integer"
        },
        {
         "name": "horascontr",
         "rawType": "int8",
         "type": "integer"
        },
        {
         "name": "horascontr",
         "rawType": "bool",
         "type": "boolean"
        }
       ],
       "ref": "d18d78e4-3c6b-4f51-8e8d-e07832a45a23",
       "rows": [
        [
         "0",
         "44",
         "44",
         "True"
        ],
        [
         "1",
         "36",
         "36",
         "True"
        ],
        [
         "2",
         "36",
         "36",
         "True"
        ],
        [
         "3",
         "30",
         "30",
         "True"
        ],
        [
         "4",
         "44",
         "44",
         "True"
        ],
        [
         "5",
         "44",
         "44",
         "True"
        ],
        [
         "6",
         "44",
         "44",
         "True"
        ],
        [
         "7",
         "44",
         "44",
         "True"
        ],
        [
         "8",
         "44",
         "44",
         "True"
        ],
        [
         "9",
         "44",
         "44",
         "True"
        ]
       ],
       "shape": {
        "columns": 3,
        "rows": 10
       }
      },
      "text/html": [
       "<div>\n",
       "<style scoped>\n",
       "    .dataframe tbody tr th:only-of-type {\n",
       "        vertical-align: middle;\n",
       "    }\n",
       "\n",
       "    .dataframe tbody tr th {\n",
       "        vertical-align: top;\n",
       "    }\n",
       "\n",
       "    .dataframe thead th {\n",
       "        text-align: right;\n",
       "    }\n",
       "</style>\n",
       "<table border=\"1\" class=\"dataframe\">\n",
       "  <thead>\n",
       "    <tr style=\"text-align: right;\">\n",
       "      <th></th>\n",
       "      <th>horascontr</th>\n",
       "      <th>horascontr</th>\n",
       "      <th>horascontr</th>\n",
       "    </tr>\n",
       "  </thead>\n",
       "  <tbody>\n",
       "    <tr>\n",
       "      <th>0</th>\n",
       "      <td>44</td>\n",
       "      <td>44</td>\n",
       "      <td>True</td>\n",
       "    </tr>\n",
       "    <tr>\n",
       "      <th>1</th>\n",
       "      <td>36</td>\n",
       "      <td>36</td>\n",
       "      <td>True</td>\n",
       "    </tr>\n",
       "    <tr>\n",
       "      <th>2</th>\n",
       "      <td>36</td>\n",
       "      <td>36</td>\n",
       "      <td>True</td>\n",
       "    </tr>\n",
       "    <tr>\n",
       "      <th>3</th>\n",
       "      <td>30</td>\n",
       "      <td>30</td>\n",
       "      <td>True</td>\n",
       "    </tr>\n",
       "    <tr>\n",
       "      <th>4</th>\n",
       "      <td>44</td>\n",
       "      <td>44</td>\n",
       "      <td>True</td>\n",
       "    </tr>\n",
       "    <tr>\n",
       "      <th>5</th>\n",
       "      <td>44</td>\n",
       "      <td>44</td>\n",
       "      <td>True</td>\n",
       "    </tr>\n",
       "    <tr>\n",
       "      <th>6</th>\n",
       "      <td>44</td>\n",
       "      <td>44</td>\n",
       "      <td>True</td>\n",
       "    </tr>\n",
       "    <tr>\n",
       "      <th>7</th>\n",
       "      <td>44</td>\n",
       "      <td>44</td>\n",
       "      <td>True</td>\n",
       "    </tr>\n",
       "    <tr>\n",
       "      <th>8</th>\n",
       "      <td>44</td>\n",
       "      <td>44</td>\n",
       "      <td>True</td>\n",
       "    </tr>\n",
       "    <tr>\n",
       "      <th>9</th>\n",
       "      <td>44</td>\n",
       "      <td>44</td>\n",
       "      <td>True</td>\n",
       "    </tr>\n",
       "  </tbody>\n",
       "</table>\n",
       "</div>"
      ],
      "text/plain": [
       "   horascontr  horascontr  horascontr\n",
       "0          44          44        True\n",
       "1          36          36        True\n",
       "2          36          36        True\n",
       "3          30          30        True\n",
       "4          44          44        True\n",
       "5          44          44        True\n",
       "6          44          44        True\n",
       "7          44          44        True\n",
       "8          44          44        True\n",
       "9          44          44        True"
      ]
     },
     "execution_count": 149,
     "metadata": {},
     "output_type": "execute_result"
    }
   ],
   "source": [
    "max_hours = hours.groupby(worker_id).transform('max')\n",
    "max_hours.head()\n",
    "\n",
    "rank1 = hours.eq(max_hours)\n",
    "\n",
    "pd.concat([hours.head(10), max_hours.head(10), rank1.head(10)], axis=1)"
   ]
  },
  {
   "cell_type": "code",
   "execution_count": 150,
   "id": "ece1d967",
   "metadata": {},
   "outputs": [
    {
     "data": {
      "application/vnd.microsoft.datawrangler.viewer.v0+json": {
       "columns": [
        {
         "name": "index",
         "rawType": "int64",
         "type": "integer"
        },
        {
         "name": "PIS",
         "rawType": "object",
         "type": "string"
        },
        {
         "name": "horascontr",
         "rawType": "int8",
         "type": "integer"
        },
        {
         "name": "horascontr",
         "rawType": "int8",
         "type": "integer"
        },
        {
         "name": "horascontr",
         "rawType": "bool",
         "type": "boolean"
        },
        {
         "name": "remmedr_h",
         "rawType": "float64",
         "type": "float"
        },
        {
         "name": "remmedr_h",
         "rawType": "float64",
         "type": "float"
        },
        {
         "name": "0",
         "rawType": "bool",
         "type": "boolean"
        }
       ],
       "ref": "5c8ddffa-e0c4-47a0-bcbb-fb19bc2df255",
       "rows": [
        [
         "0",
         "12749329932",
         "44",
         "44",
         "True",
         "21.04713765994815",
         "21.04713765994815",
         "True"
        ],
        [
         "1",
         "10701706985",
         "36",
         "36",
         "True",
         "94.45421905346008",
         "94.45421905346008",
         "True"
        ],
        [
         "2",
         "12501500581",
         "36",
         "36",
         "True",
         "9.848653276091179",
         "9.848653276091179",
         "True"
        ],
        [
         "3",
         "12749437603",
         "30",
         "30",
         "True",
         "7.4786875191659",
         "7.4786875191659",
         "True"
        ],
        [
         "4",
         "17015208715",
         "44",
         "44",
         "True",
         "2.764646232332525",
         "2.764646232332525",
         "True"
        ],
        [
         "5",
         "13186188546",
         "44",
         "44",
         "True",
         "3.1387994480220796",
         "3.1387994480220796",
         "True"
        ],
        [
         "6",
         "12441769881",
         "44",
         "44",
         "True",
         "2.796688132474701",
         "2.796688132474701",
         "True"
        ],
        [
         "7",
         "12622006448",
         "44",
         "44",
         "True",
         "2.299908003679853",
         "2.299908003679853",
         "True"
        ],
        [
         "8",
         "10260715163",
         "44",
         "44",
         "True",
         "33.794377770343736",
         "33.794377770343736",
         "True"
        ],
        [
         "9",
         "12789060535",
         "44",
         "44",
         "True",
         "3.880572049845279",
         "3.880572049845279",
         "True"
        ]
       ],
       "shape": {
        "columns": 7,
        "rows": 10
       }
      },
      "text/html": [
       "<div>\n",
       "<style scoped>\n",
       "    .dataframe tbody tr th:only-of-type {\n",
       "        vertical-align: middle;\n",
       "    }\n",
       "\n",
       "    .dataframe tbody tr th {\n",
       "        vertical-align: top;\n",
       "    }\n",
       "\n",
       "    .dataframe thead th {\n",
       "        text-align: right;\n",
       "    }\n",
       "</style>\n",
       "<table border=\"1\" class=\"dataframe\">\n",
       "  <thead>\n",
       "    <tr style=\"text-align: right;\">\n",
       "      <th></th>\n",
       "      <th>PIS</th>\n",
       "      <th>horascontr</th>\n",
       "      <th>horascontr</th>\n",
       "      <th>horascontr</th>\n",
       "      <th>remmedr_h</th>\n",
       "      <th>remmedr_h</th>\n",
       "      <th>0</th>\n",
       "    </tr>\n",
       "  </thead>\n",
       "  <tbody>\n",
       "    <tr>\n",
       "      <th>0</th>\n",
       "      <td>12749329932</td>\n",
       "      <td>44</td>\n",
       "      <td>44</td>\n",
       "      <td>True</td>\n",
       "      <td>21.047138</td>\n",
       "      <td>21.047138</td>\n",
       "      <td>True</td>\n",
       "    </tr>\n",
       "    <tr>\n",
       "      <th>1</th>\n",
       "      <td>10701706985</td>\n",
       "      <td>36</td>\n",
       "      <td>36</td>\n",
       "      <td>True</td>\n",
       "      <td>94.454219</td>\n",
       "      <td>94.454219</td>\n",
       "      <td>True</td>\n",
       "    </tr>\n",
       "    <tr>\n",
       "      <th>2</th>\n",
       "      <td>12501500581</td>\n",
       "      <td>36</td>\n",
       "      <td>36</td>\n",
       "      <td>True</td>\n",
       "      <td>9.848653</td>\n",
       "      <td>9.848653</td>\n",
       "      <td>True</td>\n",
       "    </tr>\n",
       "    <tr>\n",
       "      <th>3</th>\n",
       "      <td>12749437603</td>\n",
       "      <td>30</td>\n",
       "      <td>30</td>\n",
       "      <td>True</td>\n",
       "      <td>7.478688</td>\n",
       "      <td>7.478688</td>\n",
       "      <td>True</td>\n",
       "    </tr>\n",
       "    <tr>\n",
       "      <th>4</th>\n",
       "      <td>17015208715</td>\n",
       "      <td>44</td>\n",
       "      <td>44</td>\n",
       "      <td>True</td>\n",
       "      <td>2.764646</td>\n",
       "      <td>2.764646</td>\n",
       "      <td>True</td>\n",
       "    </tr>\n",
       "    <tr>\n",
       "      <th>5</th>\n",
       "      <td>13186188546</td>\n",
       "      <td>44</td>\n",
       "      <td>44</td>\n",
       "      <td>True</td>\n",
       "      <td>3.138799</td>\n",
       "      <td>3.138799</td>\n",
       "      <td>True</td>\n",
       "    </tr>\n",
       "    <tr>\n",
       "      <th>6</th>\n",
       "      <td>12441769881</td>\n",
       "      <td>44</td>\n",
       "      <td>44</td>\n",
       "      <td>True</td>\n",
       "      <td>2.796688</td>\n",
       "      <td>2.796688</td>\n",
       "      <td>True</td>\n",
       "    </tr>\n",
       "    <tr>\n",
       "      <th>7</th>\n",
       "      <td>12622006448</td>\n",
       "      <td>44</td>\n",
       "      <td>44</td>\n",
       "      <td>True</td>\n",
       "      <td>2.299908</td>\n",
       "      <td>2.299908</td>\n",
       "      <td>True</td>\n",
       "    </tr>\n",
       "    <tr>\n",
       "      <th>8</th>\n",
       "      <td>10260715163</td>\n",
       "      <td>44</td>\n",
       "      <td>44</td>\n",
       "      <td>True</td>\n",
       "      <td>33.794378</td>\n",
       "      <td>33.794378</td>\n",
       "      <td>True</td>\n",
       "    </tr>\n",
       "    <tr>\n",
       "      <th>9</th>\n",
       "      <td>12789060535</td>\n",
       "      <td>44</td>\n",
       "      <td>44</td>\n",
       "      <td>True</td>\n",
       "      <td>3.880572</td>\n",
       "      <td>3.880572</td>\n",
       "      <td>True</td>\n",
       "    </tr>\n",
       "  </tbody>\n",
       "</table>\n",
       "</div>"
      ],
      "text/plain": [
       "           PIS  horascontr  horascontr  horascontr  remmedr_h  remmedr_h     0\n",
       "0  12749329932          44          44        True  21.047138  21.047138  True\n",
       "1  10701706985          36          36        True  94.454219  94.454219  True\n",
       "2  12501500581          36          36        True   9.848653   9.848653  True\n",
       "3  12749437603          30          30        True   7.478688   7.478688  True\n",
       "4  17015208715          44          44        True   2.764646   2.764646  True\n",
       "5  13186188546          44          44        True   3.138799   3.138799  True\n",
       "6  12441769881          44          44        True   2.796688   2.796688  True\n",
       "7  12622006448          44          44        True   2.299908   2.299908  True\n",
       "8  10260715163          44          44        True  33.794378  33.794378  True\n",
       "9  12789060535          44          44        True   3.880572   3.880572  True"
      ]
     },
     "execution_count": 150,
     "metadata": {},
     "output_type": "execute_result"
    }
   ],
   "source": [
    "max_avg_w_and_rank1 = avg_w_h.where(rank1).groupby(worker_id).transform('max')\n",
    "rank2 = rank1 & avg_w_h.eq(max_avg_w_and_rank1)\n",
    "pd.concat([worker_id.head(10), hours.head(10), max_hours.head(10), rank1.head(10), avg_w_h.head(10), max_avg_w_and_rank1.head(10), rank2.head(10)], axis=1)"
   ]
  },
  {
   "cell_type": "code",
   "execution_count": 151,
   "id": "5af05b9a",
   "metadata": {},
   "outputs": [],
   "source": [
    "rng = np.random.default_rng(123)\n",
    "df['_rand'] = rng.random(len(df))\n",
    "rand = df['_rand']\n"
   ]
  },
  {
   "cell_type": "code",
   "execution_count": 152,
   "id": "a0692f3c",
   "metadata": {},
   "outputs": [
    {
     "data": {
      "application/vnd.microsoft.datawrangler.viewer.v0+json": {
       "columns": [
        {
         "name": "index",
         "rawType": "int64",
         "type": "integer"
        },
        {
         "name": "PIS",
         "rawType": "object",
         "type": "string"
        },
        {
         "name": "identificad",
         "rawType": "object",
         "type": "string"
        },
        {
         "name": "municipio",
         "rawType": "int32",
         "type": "integer"
        },
        {
         "name": "remmedr",
         "rawType": "float64",
         "type": "float"
        },
        {
         "name": "remdezr",
         "rawType": "float64",
         "type": "float"
        },
        {
         "name": "horascontr",
         "rawType": "int8",
         "type": "integer"
        },
        {
         "name": "dtadmissao",
         "rawType": "object",
         "type": "string"
        },
        {
         "name": "causadesli",
         "rawType": "int8",
         "type": "integer"
        },
        {
         "name": "mesdesli",
         "rawType": "int8",
         "type": "integer"
        },
        {
         "name": "empem3112",
         "rawType": "int8",
         "type": "integer"
        },
        {
         "name": "clascnae20",
         "rawType": "object",
         "type": "string"
        },
        {
         "name": "natjuridica",
         "rawType": "int16",
         "type": "integer"
        },
        {
         "name": "ocup2002",
         "rawType": "int32",
         "type": "integer"
        },
        {
         "name": "genero",
         "rawType": "int8",
         "type": "integer"
        },
        {
         "name": "tempempr",
         "rawType": "float64",
         "type": "float"
        },
        {
         "name": "raca_cor",
         "rawType": "int8",
         "type": "integer"
        },
        {
         "name": "grinstrucao",
         "rawType": "int8",
         "type": "integer"
        },
        {
         "name": "dtadmissao_date",
         "rawType": "datetime64[ns]",
         "type": "datetime"
        },
        {
         "name": "emp_in_dec",
         "rawType": "int64",
         "type": "integer"
        },
        {
         "name": "remmedr_h",
         "rawType": "float64",
         "type": "float"
        },
        {
         "name": "remdezr_h",
         "rawType": "float64",
         "type": "float"
        },
        {
         "name": "_rand",
         "rawType": "float64",
         "type": "float"
        }
       ],
       "ref": "37340199-bdaf-47b4-a839-c85f1b7cbde3",
       "rows": [
        [
         "65762",
         "10000004283",
         "06226583000150",
         "210980",
         "556.7",
         "1358.3",
         "40",
         "01042008",
         "12",
         "12",
         "0",
         "84116",
         "1031",
         "331205",
         "0",
         "8.9",
         "-1",
         "7",
         "2008-04-01 00:00:00",
         "0",
         "3.2008969641214358",
         "7.80991260349586",
         "0.6590711646876299"
        ],
        [
         "53743",
         "10000074028",
         "60448040000122",
         "355030",
         "4905.16",
         "4866.05",
         "20",
         "22111978",
         "0",
         "0",
         "1",
         "CLASSE 86101",
         "1112",
         "223115",
         "1",
         "361.2",
         "9",
         "9",
         "1978-11-22 00:00:00",
         "1",
         "56.407083716651336",
         "55.95733670653174",
         "0.45274708965789023"
        ],
        [
         "14830",
         "10000086212",
         "00720011000146",
         "530010",
         "1869.32",
         "0.0",
         "14",
         "07082006",
         "11",
         "7",
         "0",
         "85317",
         "3999",
         "234515",
         "1",
         "23.7",
         "6",
         "9",
         "2006-08-07 00:00:00",
         "0",
         "30.709028781705875",
         "0.0",
         "0.31042853676072113"
        ],
        [
         "20787",
         "10000121182",
         "92816560000307",
         "420540",
         "8769.73",
         "8302.86",
         "30",
         "01032007",
         "0",
         "0",
         "1",
         "64336",
         "1112",
         "252210",
         "1",
         "21.9",
         "2",
         "9",
         "2007-03-01 00:00:00",
         "1",
         "67.23190739037105",
         "63.65271389144435",
         "0.9154859635497596"
        ],
        [
         "81666",
         "10000146576",
         "01440615000100",
         "314330",
         "600.0",
         "600.0",
         "5",
         "01102008",
         "0",
         "0",
         "1",
         "84116",
         "3069",
         "234505",
         "1",
         "2.9",
         "2",
         "9",
         "2008-10-01 00:00:00",
         "1",
         "27.598896044158234",
         "27.598896044158234",
         "0.47526223356372665"
        ]
       ],
       "shape": {
        "columns": 22,
        "rows": 5
       }
      },
      "text/html": [
       "<div>\n",
       "<style scoped>\n",
       "    .dataframe tbody tr th:only-of-type {\n",
       "        vertical-align: middle;\n",
       "    }\n",
       "\n",
       "    .dataframe tbody tr th {\n",
       "        vertical-align: top;\n",
       "    }\n",
       "\n",
       "    .dataframe thead th {\n",
       "        text-align: right;\n",
       "    }\n",
       "</style>\n",
       "<table border=\"1\" class=\"dataframe\">\n",
       "  <thead>\n",
       "    <tr style=\"text-align: right;\">\n",
       "      <th></th>\n",
       "      <th>PIS</th>\n",
       "      <th>identificad</th>\n",
       "      <th>municipio</th>\n",
       "      <th>remmedr</th>\n",
       "      <th>remdezr</th>\n",
       "      <th>horascontr</th>\n",
       "      <th>dtadmissao</th>\n",
       "      <th>causadesli</th>\n",
       "      <th>mesdesli</th>\n",
       "      <th>empem3112</th>\n",
       "      <th>...</th>\n",
       "      <th>ocup2002</th>\n",
       "      <th>genero</th>\n",
       "      <th>tempempr</th>\n",
       "      <th>raca_cor</th>\n",
       "      <th>grinstrucao</th>\n",
       "      <th>dtadmissao_date</th>\n",
       "      <th>emp_in_dec</th>\n",
       "      <th>remmedr_h</th>\n",
       "      <th>remdezr_h</th>\n",
       "      <th>_rand</th>\n",
       "    </tr>\n",
       "  </thead>\n",
       "  <tbody>\n",
       "    <tr>\n",
       "      <th>65762</th>\n",
       "      <td>10000004283</td>\n",
       "      <td>06226583000150</td>\n",
       "      <td>210980</td>\n",
       "      <td>556.70</td>\n",
       "      <td>1358.30</td>\n",
       "      <td>40</td>\n",
       "      <td>01042008</td>\n",
       "      <td>12</td>\n",
       "      <td>12</td>\n",
       "      <td>0</td>\n",
       "      <td>...</td>\n",
       "      <td>331205</td>\n",
       "      <td>0</td>\n",
       "      <td>8.9</td>\n",
       "      <td>-1</td>\n",
       "      <td>7</td>\n",
       "      <td>2008-04-01</td>\n",
       "      <td>0</td>\n",
       "      <td>3.200897</td>\n",
       "      <td>7.809913</td>\n",
       "      <td>0.659071</td>\n",
       "    </tr>\n",
       "    <tr>\n",
       "      <th>53743</th>\n",
       "      <td>10000074028</td>\n",
       "      <td>60448040000122</td>\n",
       "      <td>355030</td>\n",
       "      <td>4905.16</td>\n",
       "      <td>4866.05</td>\n",
       "      <td>20</td>\n",
       "      <td>22111978</td>\n",
       "      <td>0</td>\n",
       "      <td>0</td>\n",
       "      <td>1</td>\n",
       "      <td>...</td>\n",
       "      <td>223115</td>\n",
       "      <td>1</td>\n",
       "      <td>361.2</td>\n",
       "      <td>9</td>\n",
       "      <td>9</td>\n",
       "      <td>1978-11-22</td>\n",
       "      <td>1</td>\n",
       "      <td>56.407084</td>\n",
       "      <td>55.957337</td>\n",
       "      <td>0.452747</td>\n",
       "    </tr>\n",
       "    <tr>\n",
       "      <th>14830</th>\n",
       "      <td>10000086212</td>\n",
       "      <td>00720011000146</td>\n",
       "      <td>530010</td>\n",
       "      <td>1869.32</td>\n",
       "      <td>0.00</td>\n",
       "      <td>14</td>\n",
       "      <td>07082006</td>\n",
       "      <td>11</td>\n",
       "      <td>7</td>\n",
       "      <td>0</td>\n",
       "      <td>...</td>\n",
       "      <td>234515</td>\n",
       "      <td>1</td>\n",
       "      <td>23.7</td>\n",
       "      <td>6</td>\n",
       "      <td>9</td>\n",
       "      <td>2006-08-07</td>\n",
       "      <td>0</td>\n",
       "      <td>30.709029</td>\n",
       "      <td>0.000000</td>\n",
       "      <td>0.310429</td>\n",
       "    </tr>\n",
       "    <tr>\n",
       "      <th>20787</th>\n",
       "      <td>10000121182</td>\n",
       "      <td>92816560000307</td>\n",
       "      <td>420540</td>\n",
       "      <td>8769.73</td>\n",
       "      <td>8302.86</td>\n",
       "      <td>30</td>\n",
       "      <td>01032007</td>\n",
       "      <td>0</td>\n",
       "      <td>0</td>\n",
       "      <td>1</td>\n",
       "      <td>...</td>\n",
       "      <td>252210</td>\n",
       "      <td>1</td>\n",
       "      <td>21.9</td>\n",
       "      <td>2</td>\n",
       "      <td>9</td>\n",
       "      <td>2007-03-01</td>\n",
       "      <td>1</td>\n",
       "      <td>67.231907</td>\n",
       "      <td>63.652714</td>\n",
       "      <td>0.915486</td>\n",
       "    </tr>\n",
       "    <tr>\n",
       "      <th>81666</th>\n",
       "      <td>10000146576</td>\n",
       "      <td>01440615000100</td>\n",
       "      <td>314330</td>\n",
       "      <td>600.00</td>\n",
       "      <td>600.00</td>\n",
       "      <td>5</td>\n",
       "      <td>01102008</td>\n",
       "      <td>0</td>\n",
       "      <td>0</td>\n",
       "      <td>1</td>\n",
       "      <td>...</td>\n",
       "      <td>234505</td>\n",
       "      <td>1</td>\n",
       "      <td>2.9</td>\n",
       "      <td>2</td>\n",
       "      <td>9</td>\n",
       "      <td>2008-10-01</td>\n",
       "      <td>1</td>\n",
       "      <td>27.598896</td>\n",
       "      <td>27.598896</td>\n",
       "      <td>0.475262</td>\n",
       "    </tr>\n",
       "  </tbody>\n",
       "</table>\n",
       "<p>5 rows × 22 columns</p>\n",
       "</div>"
      ],
      "text/plain": [
       "               PIS     identificad  municipio  remmedr  remdezr  horascontr  \\\n",
       "65762  10000004283  06226583000150     210980   556.70  1358.30          40   \n",
       "53743  10000074028  60448040000122     355030  4905.16  4866.05          20   \n",
       "14830  10000086212  00720011000146     530010  1869.32     0.00          14   \n",
       "20787  10000121182  92816560000307     420540  8769.73  8302.86          30   \n",
       "81666  10000146576  01440615000100     314330   600.00   600.00           5   \n",
       "\n",
       "      dtadmissao  causadesli  mesdesli  empem3112  ... ocup2002  genero  \\\n",
       "65762   01042008          12        12          0  ...   331205       0   \n",
       "53743   22111978           0         0          1  ...   223115       1   \n",
       "14830   07082006          11         7          0  ...   234515       1   \n",
       "20787   01032007           0         0          1  ...   252210       1   \n",
       "81666   01102008           0         0          1  ...   234505       1   \n",
       "\n",
       "       tempempr  raca_cor  grinstrucao  dtadmissao_date  emp_in_dec  \\\n",
       "65762       8.9        -1            7       2008-04-01           0   \n",
       "53743     361.2         9            9       1978-11-22           1   \n",
       "14830      23.7         6            9       2006-08-07           0   \n",
       "20787      21.9         2            9       2007-03-01           1   \n",
       "81666       2.9         2            9       2008-10-01           1   \n",
       "\n",
       "       remmedr_h  remdezr_h     _rand  \n",
       "65762   3.200897   7.809913  0.659071  \n",
       "53743  56.407084  55.957337  0.452747  \n",
       "14830  30.709029   0.000000  0.310429  \n",
       "20787  67.231907  63.652714  0.915486  \n",
       "81666  27.598896  27.598896  0.475262  \n",
       "\n",
       "[5 rows x 22 columns]"
      ]
     },
     "execution_count": 152,
     "metadata": {},
     "output_type": "execute_result"
    }
   ],
   "source": [
    "idx = (\n",
    "    df.loc[rank2]\n",
    "      .groupby(worker_id[rank2])['_rand']   # <- use the column name here\n",
    "      .idxmax()\n",
    ")\n",
    "\n",
    "# Grab the winning rows\n",
    "df_one_spell = df.loc[idx].copy()\n",
    "df_one_spell.head()"
   ]
  },
  {
   "cell_type": "code",
   "execution_count": 153,
   "id": "7c4fd9b0",
   "metadata": {},
   "outputs": [
    {
     "data": {
      "text/plain": [
       "True"
      ]
     },
     "execution_count": 153,
     "metadata": {},
     "output_type": "execute_result"
    }
   ],
   "source": [
    "df_one_spell['PIS'].is_unique"
   ]
  },
  {
   "cell_type": "code",
   "execution_count": 154,
   "id": "33eb7244",
   "metadata": {},
   "outputs": [
    {
     "data": {
      "text/plain": [
       "dtype('int32')"
      ]
     },
     "execution_count": 154,
     "metadata": {},
     "output_type": "execute_result"
    }
   ],
   "source": [
    "df['municipio'].dtypes"
   ]
  },
  {
   "cell_type": "code",
   "execution_count": 155,
   "id": "5a7c9aa2",
   "metadata": {},
   "outputs": [
    {
     "data": {
      "application/vnd.microsoft.datawrangler.viewer.v0+json": {
       "columns": [
        {
         "name": "causadesli",
         "rawType": "int8",
         "type": "integer"
        },
        {
         "name": "count",
         "rawType": "int64",
         "type": "integer"
        }
       ],
       "ref": "b25d5cc4-ff3d-4324-a2aa-3eebe05f3f77",
       "rows": [
        [
         "0",
         "394753"
        ],
        [
         "11",
         "100567"
        ],
        [
         "21",
         "42615"
        ],
        [
         "12",
         "40672"
        ],
        [
         "31",
         "12007"
        ],
        [
         "10",
         "2600"
        ],
        [
         "30",
         "1260"
        ],
        [
         "60",
         "602"
        ],
        [
         "71",
         "548"
        ],
        [
         "20",
         "413"
        ],
        [
         "70",
         "388"
        ],
        [
         "76",
         "132"
        ],
        [
         "40",
         "130"
        ],
        [
         "50",
         "78"
        ],
        [
         "72",
         "66"
        ],
        [
         "79",
         "43"
        ],
        [
         "74",
         "40"
        ],
        [
         "75",
         "37"
        ],
        [
         "80",
         "30"
        ],
        [
         "78",
         "26"
        ],
        [
         "73",
         "20"
        ],
        [
         "62",
         "18"
        ],
        [
         "22",
         "12"
        ],
        [
         "63",
         "5"
        ],
        [
         "64",
         "2"
        ]
       ],
       "shape": {
        "columns": 1,
        "rows": 25
       }
      },
      "text/plain": [
       "causadesli\n",
       "0     394753\n",
       "11    100567\n",
       "21     42615\n",
       "12     40672\n",
       "31     12007\n",
       "10      2600\n",
       "30      1260\n",
       "60       602\n",
       "71       548\n",
       "20       413\n",
       "70       388\n",
       "76       132\n",
       "40       130\n",
       "50        78\n",
       "72        66\n",
       "79        43\n",
       "74        40\n",
       "75        37\n",
       "80        30\n",
       "78        26\n",
       "73        20\n",
       "62        18\n",
       "22        12\n",
       "63         5\n",
       "64         2\n",
       "Name: count, dtype: int64"
      ]
     },
     "execution_count": 155,
     "metadata": {},
     "output_type": "execute_result"
    }
   ],
   "source": [
    "df['causadesli'].value_counts()\n"
   ]
  },
  {
   "cell_type": "code",
   "execution_count": null,
   "id": "8ce4ed2a",
   "metadata": {},
   "outputs": [],
   "source": []
  }
 ],
 "metadata": {
  "kernelspec": {
   "display_name": "Python 3",
   "language": "python",
   "name": "python3"
  },
  "language_info": {
   "codemirror_mode": {
    "name": "ipython",
    "version": 3
   },
   "file_extension": ".py",
   "mimetype": "text/x-python",
   "name": "python",
   "nbconvert_exporter": "python",
   "pygments_lexer": "ipython3",
   "version": "3.6.8"
  }
 },
 "nbformat": 4,
 "nbformat_minor": 5
}
