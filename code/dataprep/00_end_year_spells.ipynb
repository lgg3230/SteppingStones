{
 "cells": [
  {
   "cell_type": "code",
   "execution_count": 1,
   "id": "a1a55a77",
   "metadata": {},
   "outputs": [],
   "source": [
    "import pandas as pd\n",
    "import numpy as np\n",
    "from pathlib import Path\n",
    "import shutil\n",
    "import re"
   ]
  },
  {
   "cell_type": "code",
   "execution_count": 2,
   "id": "b6f77bac",
   "metadata": {},
   "outputs": [],
   "source": [
    "src_dir = Path(\"/kellogg/proj/lgg3230/SteppingStones/data/interim/rj_sample\")\n",
    "out_dir = Path(\"/kellogg/proj/lgg3230/SteppingStones/data/interim/sample\")\n",
    "out_dir.mkdir(parents=True, exist_ok=True)"
   ]
  },
  {
   "cell_type": "code",
   "execution_count": 3,
   "id": "5afeb4d7",
   "metadata": {},
   "outputs": [
    {
     "name": "stdout",
     "output_type": "stream",
     "text": [
      "Found 11 files\n"
     ]
    }
   ],
   "source": [
    "dta_files = sorted(src_dir.glob(\"RAIS_*.dta\"))\n",
    "print(f\"Found {len(dta_files)} files\")\n"
   ]
  },
  {
   "cell_type": "code",
   "execution_count": 4,
   "id": "86003e2e",
   "metadata": {},
   "outputs": [
    {
     "name": "stdout",
     "output_type": "stream",
     "text": [
      "Processing year 2007...\n",
      "  Selected 2004224 unique workers.\n",
      "Processing year 2008...\n",
      "  Selected 2001473 unique workers.\n",
      "Processing year 2009...\n",
      "  Selected 2059540 unique workers.\n",
      "Processing year 2010...\n",
      "  Selected 2167451 unique workers.\n",
      "Processing year 2011...\n"
     ]
    },
    {
     "ename": "KeyboardInterrupt",
     "evalue": "",
     "output_type": "error",
     "traceback": [
      "\u001b[31m---------------------------------------------------------------------------\u001b[39m",
      "\u001b[31mKeyboardInterrupt\u001b[39m                         Traceback (most recent call last)",
      "\u001b[36mCell\u001b[39m\u001b[36m \u001b[39m\u001b[32mIn[4]\u001b[39m\u001b[32m, line 8\u001b[39m\n\u001b[32m      6\u001b[39m year = re.search(\u001b[33mr\u001b[39m\u001b[33m\"\u001b[39m\u001b[33mRAIS_(\u001b[39m\u001b[33m\\\u001b[39m\u001b[33md\u001b[39m\u001b[38;5;132;01m{4}\u001b[39;00m\u001b[33m)\u001b[39m\u001b[33m\\\u001b[39m\u001b[33m_rj.dta\u001b[39m\u001b[33m\"\u001b[39m, f.name).group(\u001b[32m1\u001b[39m)\n\u001b[32m      7\u001b[39m \u001b[38;5;28mprint\u001b[39m(\u001b[33mf\u001b[39m\u001b[33m\"\u001b[39m\u001b[33mProcessing year \u001b[39m\u001b[38;5;132;01m{\u001b[39;00myear\u001b[38;5;132;01m}\u001b[39;00m\u001b[33m...\u001b[39m\u001b[33m\"\u001b[39m)\n\u001b[32m----> \u001b[39m\u001b[32m8\u001b[39m df_year = \u001b[43mpd\u001b[49m\u001b[43m.\u001b[49m\u001b[43mread_stata\u001b[49m\u001b[43m(\u001b[49m\u001b[43mf\u001b[49m\u001b[43m,\u001b[49m\u001b[43m \u001b[49m\u001b[43mconvert_categoricals\u001b[49m\u001b[43m=\u001b[49m\u001b[38;5;28;43;01mFalse\u001b[39;49;00m\u001b[43m)\u001b[49m\n\u001b[32m      9\u001b[39m df_year[\u001b[33m'\u001b[39m\u001b[33memp_in_dec\u001b[39m\u001b[33m'\u001b[39m] = ((df_year[\u001b[33m'\u001b[39m\u001b[33mempem3112\u001b[39m\u001b[33m'\u001b[39m]==\u001b[32m1\u001b[39m )& (df_year[\u001b[33m'\u001b[39m\u001b[33mtempempr\u001b[39m\u001b[33m'\u001b[39m]>\u001b[32m1\u001b[39m)).astype(\u001b[38;5;28mint\u001b[39m)\n\u001b[32m     10\u001b[39m df_year = df_year[df_year[\u001b[33m'\u001b[39m\u001b[33memp_in_dec\u001b[39m\u001b[33m'\u001b[39m] == \u001b[32m1\u001b[39m].copy()\n",
      "\u001b[36mFile \u001b[39m\u001b[32m~/venvs/lgg3230-py312/lib/python3.12/site-packages/pandas/io/stata.py:2113\u001b[39m, in \u001b[36mread_stata\u001b[39m\u001b[34m(filepath_or_buffer, convert_dates, convert_categoricals, index_col, convert_missing, preserve_dtypes, columns, order_categoricals, chunksize, iterator, compression, storage_options)\u001b[39m\n\u001b[32m   2110\u001b[39m     \u001b[38;5;28;01mreturn\u001b[39;00m reader\n\u001b[32m   2112\u001b[39m \u001b[38;5;28;01mwith\u001b[39;00m reader:\n\u001b[32m-> \u001b[39m\u001b[32m2113\u001b[39m     \u001b[38;5;28;01mreturn\u001b[39;00m \u001b[43mreader\u001b[49m\u001b[43m.\u001b[49m\u001b[43mread\u001b[49m\u001b[43m(\u001b[49m\u001b[43m)\u001b[49m\n",
      "\u001b[36mFile \u001b[39m\u001b[32m~/venvs/lgg3230-py312/lib/python3.12/site-packages/pandas/io/stata.py:1761\u001b[39m, in \u001b[36mStataReader.read\u001b[39m\u001b[34m(self, nrows, convert_dates, convert_categoricals, index_col, convert_missing, preserve_dtypes, columns, order_categoricals)\u001b[39m\n\u001b[32m   1759\u001b[39m     data = DataFrame(columns=\u001b[38;5;28mself\u001b[39m._varlist)\n\u001b[32m   1760\u001b[39m \u001b[38;5;28;01melse\u001b[39;00m:\n\u001b[32m-> \u001b[39m\u001b[32m1761\u001b[39m     data = \u001b[43mDataFrame\u001b[49m\u001b[43m.\u001b[49m\u001b[43mfrom_records\u001b[49m\u001b[43m(\u001b[49m\u001b[43mraw_data\u001b[49m\u001b[43m)\u001b[49m\n\u001b[32m   1762\u001b[39m     data.columns = Index(\u001b[38;5;28mself\u001b[39m._varlist)\n\u001b[32m   1764\u001b[39m \u001b[38;5;66;03m# If index is not specified, use actual row number rather than\u001b[39;00m\n\u001b[32m   1765\u001b[39m \u001b[38;5;66;03m# restarting at 0 for each chunk.\u001b[39;00m\n",
      "\u001b[36mFile \u001b[39m\u001b[32m~/venvs/lgg3230-py312/lib/python3.12/site-packages/pandas/core/frame.py:2551\u001b[39m, in \u001b[36mDataFrame.from_records\u001b[39m\u001b[34m(cls, data, index, exclude, columns, coerce_float, nrows)\u001b[39m\n\u001b[32m   2548\u001b[39m     columns = columns.drop(exclude)\n\u001b[32m   2550\u001b[39m manager = _get_option(\u001b[33m\"\u001b[39m\u001b[33mmode.data_manager\u001b[39m\u001b[33m\"\u001b[39m, silent=\u001b[38;5;28;01mTrue\u001b[39;00m)\n\u001b[32m-> \u001b[39m\u001b[32m2551\u001b[39m mgr = \u001b[43marrays_to_mgr\u001b[49m\u001b[43m(\u001b[49m\u001b[43marrays\u001b[49m\u001b[43m,\u001b[49m\u001b[43m \u001b[49m\u001b[43mcolumns\u001b[49m\u001b[43m,\u001b[49m\u001b[43m \u001b[49m\u001b[43mresult_index\u001b[49m\u001b[43m,\u001b[49m\u001b[43m \u001b[49m\u001b[43mtyp\u001b[49m\u001b[43m=\u001b[49m\u001b[43mmanager\u001b[49m\u001b[43m)\u001b[49m\n\u001b[32m   2552\u001b[39m df = DataFrame._from_mgr(mgr, axes=mgr.axes)\n\u001b[32m   2553\u001b[39m \u001b[38;5;28;01mif\u001b[39;00m \u001b[38;5;28mcls\u001b[39m \u001b[38;5;129;01mis\u001b[39;00m \u001b[38;5;129;01mnot\u001b[39;00m DataFrame:\n",
      "\u001b[36mFile \u001b[39m\u001b[32m~/venvs/lgg3230-py312/lib/python3.12/site-packages/pandas/core/internals/construction.py:152\u001b[39m, in \u001b[36marrays_to_mgr\u001b[39m\u001b[34m(arrays, columns, index, dtype, verify_integrity, typ, consolidate)\u001b[39m\n\u001b[32m    149\u001b[39m axes = [columns, index]\n\u001b[32m    151\u001b[39m \u001b[38;5;28;01mif\u001b[39;00m typ == \u001b[33m\"\u001b[39m\u001b[33mblock\u001b[39m\u001b[33m\"\u001b[39m:\n\u001b[32m--> \u001b[39m\u001b[32m152\u001b[39m     \u001b[38;5;28;01mreturn\u001b[39;00m \u001b[43mcreate_block_manager_from_column_arrays\u001b[49m\u001b[43m(\u001b[49m\n\u001b[32m    153\u001b[39m \u001b[43m        \u001b[49m\u001b[43marrays\u001b[49m\u001b[43m,\u001b[49m\u001b[43m \u001b[49m\u001b[43maxes\u001b[49m\u001b[43m,\u001b[49m\u001b[43m \u001b[49m\u001b[43mconsolidate\u001b[49m\u001b[43m=\u001b[49m\u001b[43mconsolidate\u001b[49m\u001b[43m,\u001b[49m\u001b[43m \u001b[49m\u001b[43mrefs\u001b[49m\u001b[43m=\u001b[49m\u001b[43mrefs\u001b[49m\n\u001b[32m    154\u001b[39m \u001b[43m    \u001b[49m\u001b[43m)\u001b[49m\n\u001b[32m    155\u001b[39m \u001b[38;5;28;01melif\u001b[39;00m typ == \u001b[33m\"\u001b[39m\u001b[33marray\u001b[39m\u001b[33m\"\u001b[39m:\n\u001b[32m    156\u001b[39m     \u001b[38;5;28;01mreturn\u001b[39;00m ArrayManager(arrays, [index, columns])\n",
      "\u001b[36mFile \u001b[39m\u001b[32m~/venvs/lgg3230-py312/lib/python3.12/site-packages/pandas/core/internals/managers.py:2158\u001b[39m, in \u001b[36mcreate_block_manager_from_column_arrays\u001b[39m\u001b[34m(arrays, axes, consolidate, refs)\u001b[39m\n\u001b[32m   2140\u001b[39m \u001b[38;5;28;01mdef\u001b[39;00m\u001b[38;5;250m \u001b[39m\u001b[34mcreate_block_manager_from_column_arrays\u001b[39m(\n\u001b[32m   2141\u001b[39m     arrays: \u001b[38;5;28mlist\u001b[39m[ArrayLike],\n\u001b[32m   2142\u001b[39m     axes: \u001b[38;5;28mlist\u001b[39m[Index],\n\u001b[32m   (...)\u001b[39m\u001b[32m   2154\u001b[39m     \u001b[38;5;66;03m# These last three are sufficient to allow us to safely pass\u001b[39;00m\n\u001b[32m   2155\u001b[39m     \u001b[38;5;66;03m#  verify_integrity=False below.\u001b[39;00m\n\u001b[32m   2157\u001b[39m     \u001b[38;5;28;01mtry\u001b[39;00m:\n\u001b[32m-> \u001b[39m\u001b[32m2158\u001b[39m         blocks = \u001b[43m_form_blocks\u001b[49m\u001b[43m(\u001b[49m\u001b[43marrays\u001b[49m\u001b[43m,\u001b[49m\u001b[43m \u001b[49m\u001b[43mconsolidate\u001b[49m\u001b[43m,\u001b[49m\u001b[43m \u001b[49m\u001b[43mrefs\u001b[49m\u001b[43m)\u001b[49m\n\u001b[32m   2159\u001b[39m         mgr = BlockManager(blocks, axes, verify_integrity=\u001b[38;5;28;01mFalse\u001b[39;00m)\n\u001b[32m   2160\u001b[39m     \u001b[38;5;28;01mexcept\u001b[39;00m \u001b[38;5;167;01mValueError\u001b[39;00m \u001b[38;5;28;01mas\u001b[39;00m e:\n",
      "\u001b[36mFile \u001b[39m\u001b[32m~/venvs/lgg3230-py312/lib/python3.12/site-packages/pandas/core/internals/managers.py:2231\u001b[39m, in \u001b[36m_form_blocks\u001b[39m\u001b[34m(arrays, consolidate, refs)\u001b[39m\n\u001b[32m   2228\u001b[39m \u001b[38;5;28;01mif\u001b[39;00m \u001b[38;5;28missubclass\u001b[39m(dtype.type, (\u001b[38;5;28mstr\u001b[39m, \u001b[38;5;28mbytes\u001b[39m)):\n\u001b[32m   2229\u001b[39m     dtype = np.dtype(\u001b[38;5;28mobject\u001b[39m)\n\u001b[32m-> \u001b[39m\u001b[32m2231\u001b[39m values, placement = \u001b[43m_stack_arrays\u001b[49m\u001b[43m(\u001b[49m\u001b[38;5;28;43mlist\u001b[39;49m\u001b[43m(\u001b[49m\u001b[43mtup_block\u001b[49m\u001b[43m)\u001b[49m\u001b[43m,\u001b[49m\u001b[43m \u001b[49m\u001b[43mdtype\u001b[49m\u001b[43m)\u001b[49m\n\u001b[32m   2232\u001b[39m \u001b[38;5;28;01mif\u001b[39;00m is_dtlike:\n\u001b[32m   2233\u001b[39m     values = ensure_wrapped_if_datetimelike(values)\n",
      "\u001b[36mFile \u001b[39m\u001b[32m~/venvs/lgg3230-py312/lib/python3.12/site-packages/pandas/core/internals/managers.py:2273\u001b[39m, in \u001b[36m_stack_arrays\u001b[39m\u001b[34m(tuples, dtype)\u001b[39m\n\u001b[32m   2271\u001b[39m stacked = np.empty(shape, dtype=dtype)\n\u001b[32m   2272\u001b[39m \u001b[38;5;28;01mfor\u001b[39;00m i, arr \u001b[38;5;129;01min\u001b[39;00m \u001b[38;5;28menumerate\u001b[39m(arrays):\n\u001b[32m-> \u001b[39m\u001b[32m2273\u001b[39m     stacked[i] = arr\n\u001b[32m   2275\u001b[39m \u001b[38;5;28;01mreturn\u001b[39;00m stacked, placement\n",
      "\u001b[31mKeyboardInterrupt\u001b[39m: "
     ]
    }
   ],
   "source": [
    "df_list = []\n",
    "\n",
    "rng  = np.random.default_rng(seed=123)\n",
    "\n",
    "for f in dta_files:\n",
    "    year = re.search(r\"RAIS_(\\d{4})\\_rj.dta\", f.name).group(1)\n",
    "    print(f\"Processing year {year}...\")\n",
    "    df_year = pd.read_stata(f, convert_categoricals=False)\n",
    "    df_year['emp_in_dec'] = ((df_year['empem3112']==1 )& (df_year['tempempr']>1)).astype(int)\n",
    "    df_year = df_year[df_year['emp_in_dec'] == 1].copy()\n",
    "\n",
    "    df_year['remmedr_h'] = (df_year['remmedr'])/(df_year['horascontr']*4.348)\n",
    "    df_year['remdezr_h'] = (df_year['remdezr'])/(df_year['horascontr']*4.348)\n",
    "    df_year['_rand'] = rng.random(len(df_year))\n",
    "\n",
    "    worker_id  = df_year['PIS']\n",
    "    hours = df_year['horascontr']\n",
    "    avg_w_h = df_year['remmedr_h']\n",
    "    max_hours = hours.groupby(worker_id).transform('max')\n",
    "    max_hours.head()\n",
    "    rank1 = hours.eq(max_hours)\n",
    "    max_avg_w_and_rank1 = avg_w_h.where(rank1).groupby(worker_id).transform('max')\n",
    "    rank2 = rank1 & avg_w_h.eq(max_avg_w_and_rank1)\n",
    "    idx = (\n",
    "    df_year.loc[rank2]\n",
    "      .groupby(worker_id[rank2])['_rand']   # <- use the column name here\n",
    "      .idxmax())\n",
    "      # Grab the winning rows\n",
    "    df_selected = df_year.loc[idx].copy()\n",
    "    df_selected['year'] = int(year)\n",
    "    df_list.append(df_selected)\n",
    "    print(f\"  Selected {len(df_selected)} unique workers.\")\n",
    "    # build panel AFTER the loop (faster)\n",
    "df_panel = pd.concat(df_list, ignore_index=True)\n",
    "\n",
    "# 1) Drop helper\n",
    "if '_rand' in df_panel.columns:\n",
    "    df_panel.drop(columns='_rand', inplace=True)\n",
    "\n",
    "# 2) Replace +-inf from divisions\n",
    "df_panel.replace([np.inf, -np.inf], np.nan, inplace=True)\n",
    "\n",
    "# 3) Drop columns that are entirely NaN (e.g., clascnae95 in some years)\n",
    "all_null_cols = [c for c in df_panel.columns if df_panel[c].isna().all()]\n",
    "if all_null_cols:\n",
    "    df_panel.drop(columns=all_null_cols, inplace=True)\n",
    "\n",
    "# 4) Coerce object columns to pure strings (Stata requires string-like)\n",
    "for c in df_panel.select_dtypes(include='object').columns:\n",
    "    df_panel[c] = df_panel[c].astype(str).where(df_panel[c].notna(), None)\n",
    "\n",
    "# 5) Pandas nullable integers (Int64) → float (to keep NaN)\n",
    "for c in df_panel.columns:\n",
    "    if str(df_panel[c].dtype) == 'Int64':\n",
    "        df_panel[c] = df_panel[c].astype('float64')\n",
    "\n",
    "# 6) Booleans → tiny ints\n",
    "for c in df_panel.select_dtypes(include='bool').columns:\n",
    "    df_panel[c] = df_panel[c].astype('int8')\n",
    "\n",
    "# Save with UTF-8 Stata format\n",
    "out_path = out_dir / \"RAIS_panel_endyear.dta\"\n",
    "df_panel.to_stata(out_path, write_index=False, version=119)\n",
    "print(f\"✅ Combined panel: {len(df_panel):,} rows → {out_path}\")\n"
   ]
  }
 ],
 "metadata": {
  "kernelspec": {
   "display_name": "lgg3230-py312",
   "language": "python",
   "name": "python3"
  },
  "language_info": {
   "codemirror_mode": {
    "name": "ipython",
    "version": 3
   },
   "file_extension": ".py",
   "mimetype": "text/x-python",
   "name": "python",
   "nbconvert_exporter": "python",
   "pygments_lexer": "ipython3",
   "version": "3.12.10"
  }
 },
 "nbformat": 4,
 "nbformat_minor": 5
}
